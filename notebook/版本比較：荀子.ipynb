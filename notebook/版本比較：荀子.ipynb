{
 "cells": [
  {
   "cell_type": "markdown",
   "metadata": {
    "deletable": true,
    "editable": true
   },
   "source": [
    "比較語料庫的荀子和另一版本的荀子"
   ]
  },
  {
   "cell_type": "code",
   "execution_count": null,
   "metadata": {
    "collapsed": false,
    "deletable": true,
    "editable": true
   },
   "outputs": [],
   "source": [
    "from bs4 import BeautifulSoup\n",
    "import re\n",
    "from difflib import SequenceMatcher\n",
    "file1 = open(r\"C:\\Users\\Ping-tzu 2 Chu A1\\Office365\\OneDrive - 清華大學\\同步文件\\程式資料\\Oxygen\\ChinaXML\\子部\\儒\\荀況-荀子白文(李滌生)-TEI-P5.xml\", \"r\", encoding=\"utf8\")\n",
    "file2 = open(r\"D:\\GitHub\\hyylk\\data\\shanggu\\荀子.xml\", \"r\", encoding=\"utf8\")\n",
    "soup1 = BeautifulSoup(file1, \"xml\")\n",
    "soup2 = BeautifulSoup(file2, \"xml\")\n",
    "text1 =\"\"\n",
    "text2 =\"\"\n",
    "list2 =[]\n",
    "list_leftover = []\n",
    "for p in soup1.body(\"p\"):\n",
    "    for string in p.stripped_strings:\n",
    "        text1 += str(string)\n",
    "text1 = re.sub(r\"[\\n，。、．；；：？！－…（）《》「」『』○─│　]\", \"\", text1)\n",
    "for w in soup2(\"w\"):\n",
    "    try:\n",
    "        text2 += str(w.string)\n",
    "    except:\n",
    "        list_leftover.append(wPos)\n",
    "s = SequenceMatcher(lambda x: x == \" \", text1, text2)\n",
    "opcodeList=[]\n",
    "for opcode in s.get_opcodes():\n",
    "    if opcode[0]==\"replace\":\n",
    "        opcodeList.append((opcode[3], opcode[4], opcode[1], opcode[2]))\n",
    "currentTextPos = 0\n",
    "currentTuplePos = 0\n",
    "leftover = 0\n",
    "for w in soup2(\"w\"):\n",
    "    newLen = len(str(w.string))\n",
    "    if currentTextPos == opcodeList[currentTuplePos][0] and currentTextPos + len(str(w.string)) == opcodeList[currentTuplePos][1]:\n",
    "        w.string=text1[opcodeList[currentTuplePos][2]:opcodeList[currentTuplePos][3]]\n",
    "    currentTextPos += newLen\n",
    "with open(r\"d:\\temp\\xunzi.xml\", \"w\", encoding=\"utf8\") as fileWrite:\n",
    "    fileWrite.write(soup2.prettify())\n",
    "print(\"We're done.\")"
   ]
  },
  {
   "cell_type": "code",
   "execution_count": 1,
   "metadata": {
    "collapsed": false,
    "deletable": true,
    "editable": true
   },
   "outputs": [
    {
     "name": "stdout",
     "output_type": "stream",
     "text": [
      "0.3863140438160077\n",
      "We're done.\n"
     ]
    }
   ],
   "source": [
    "import re\n",
    "import io\n",
    "from difflib import SequenceMatcher\n",
    "with io.open(r\"D:\\Temp\\自動標點\\Kr1c0004_1.xml\", \"r\", encoding=\"utf-8\") as file1:\n",
    "    text1 = file1.read()\n",
    "with io.open(r\"D:\\Temp\\自動標點\\Kr1c0004_1.txt\", \"r\", encoding=\"utf-8\") as file2:\n",
    "    text2 = file2.read()\n",
    "s = SequenceMatcher(lambda x: x == \" \", text1, text2)\n",
    "output = \"\"\n",
    "for tag, i1, i2, j1, j2 in s.get_opcodes():\n",
    "    if tag==\"insert\":\n",
    "        output = output+str(i1)+\"\\t\"+str(i2)+ \"\\t\"+str(j1)+\"\\t\"+str(j2)+\"\\t\"+ text1[i1:i2]+\"\\t\"+text2[j1:j2]+\"\\n\"\n",
    "with open(r\"d:\\temp\\自動標點\\KR1c004.txt\", \"w\", encoding=\"utf8\") as fileWrite:\n",
    "    fileWrite.write(output)\n",
    "print(s.ratio())\n",
    "print(\"We're done.\")"
   ]
  },
  {
   "cell_type": "code",
   "execution_count": null,
   "metadata": {
    "collapsed": true,
    "deletable": true,
    "editable": true
   },
   "outputs": [],
   "source": []
  },
  {
   "cell_type": "code",
   "execution_count": null,
   "metadata": {
    "collapsed": true,
    "deletable": true,
    "editable": true
   },
   "outputs": [],
   "source": []
  }
 ],
 "metadata": {
  "kernelspec": {
   "display_name": "Python [conda root]",
   "language": "python",
   "name": "conda-root-py"
  },
  "language_info": {
   "codemirror_mode": {
    "name": "ipython",
    "version": 3
   },
   "file_extension": ".py",
   "mimetype": "text/x-python",
   "name": "python",
   "nbconvert_exporter": "python",
   "pygments_lexer": "ipython3",
   "version": "3.5.2"
  }
 },
 "nbformat": 4,
 "nbformat_minor": 1
}
