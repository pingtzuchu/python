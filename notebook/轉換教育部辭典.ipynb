{
 "cells": [
  {
   "cell_type": "markdown",
   "metadata": {},
   "source": [
    "轉換教育部辭典成為Jieba_zh的辭典"
   ]
  },
  {
   "cell_type": "code",
   "execution_count": 11,
   "metadata": {
    "collapsed": false
   },
   "outputs": [
    {
     "name": "stderr",
     "output_type": "stream",
     "text": [
      "C:\\Anaconda3\\lib\\site-packages\\openpyxl\\worksheet\\header_footer.py:209: UserWarning: Cannot parse header or footer so it will be ignored\n",
      "  warn(\"\"\"Cannot parse header or footer so it will be ignored\"\"\")\n"
     ]
    },
    {
     "name": "stdout",
     "output_type": "stream",
     "text": [
      "We're done!\n"
     ]
    }
   ],
   "source": [
    "from openpyxl import load_workbook\n",
    "wk = load_workbook(r\"D:\\教育部辭典\\dict_revised_2015_20160523_3.xlsx\")\n",
    "ws=wk.active\n",
    "output=\"\"\n",
    "for cell in ws.columns[2]:\n",
    "    output += cell.value+\" \"+str(len(cell.value))+\"\\n\"\n",
    "outfile=open(r\"c:\\temp\\output3.dic\", \"w\", encoding=\"utf8\")\n",
    "outfile.write(output)\n",
    "outfile.close\n",
    "print (\"We're done!\")\n"
   ]
  },
  {
   "cell_type": "code",
   "execution_count": null,
   "metadata": {
    "collapsed": true
   },
   "outputs": [],
   "source": []
  }
 ],
 "metadata": {
  "kernelspec": {
   "display_name": "Python 3",
   "language": "python",
   "name": "python3"
  },
  "language_info": {
   "codemirror_mode": {
    "name": "ipython",
    "version": 3
   },
   "file_extension": ".py",
   "mimetype": "text/x-python",
   "name": "python",
   "nbconvert_exporter": "python",
   "pygments_lexer": "ipython3",
   "version": "3.5.1"
  }
 },
 "nbformat": 4,
 "nbformat_minor": 0
}
