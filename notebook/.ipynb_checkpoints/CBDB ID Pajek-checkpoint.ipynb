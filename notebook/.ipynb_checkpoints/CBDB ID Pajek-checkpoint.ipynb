{
 "cells": [
  {
   "cell_type": "markdown",
   "metadata": {},
   "source": [
    "將段落裏的CBDB ID對應成Pajek格式的社會網絡檔案"
   ]
  },
  {
   "cell_type": "code",
   "execution_count": null,
   "metadata": {
    "collapsed": false
   },
   "outputs": [],
   "source": [
    "inFile=open(r\"C:\\Users\\Ping-tzu 2 Chu A2\\OneDrive - 清華大學\\同步文件\\2016-12 宋代筆記\\四朝聞見錄SNA.txt\", \"r\", encoding=\"UTF8\")\n",
    "IDDict={} #node list\n",
    "edgeList=[] #edge list (not directive)\n",
    "print(len(edgeList))\n",
    "netFile=\"\"\n",
    "i=1\n",
    "for line in inFile.readlines():\n",
    "    lineIDList=line.split()\n",
    "    for n in range(len(lineIDList)): #check the ids in every line\n",
    "        if not(lineIDList[n] in IDDict.values()):\n",
    "            IDDict[str(i)]=lineIDList[n] #adding to the id list\n",
    "            i += 1\n",
    "    for x in range(len(lineIDList)-1):\n",
    "        for y in range(x+1, len(lineIDList)):\n",
    "            tempList1=[lineIDList[x], lineIDList[y]]\n",
    "            tempList2=[lineIDList[y], lineIDList[x]]\n",
    "            for z in range(len(edgeList)):\n",
    "                if (tempList1 in edgeList[z]) or (tempList2 in edgeList[z]):\n",
    "                    edgeList[z][1] += 1\n",
    "                else:\n",
    "                    edgeList.append([tempList1, 1])\n",
    "print(len(edgeList))\n",
    "netFile += \"*Vertices \" + str(len(IDDict)) + \"\\n\"\n",
    "for m in range(len(IDDict)):\n",
    "    netFile += str(m+1)+ \" \\'\" + IDDict[str(m+1)] + \"\\'\\n\"\n",
    "netFile += \"*Edges\\n\"\n",
    "print (edgeList)\n",
    "for m in range(1, len(edgeList)):\n",
    "    netFile += edgeList[m][0][0]+\", \"+edgeList[m][0][1]+\", \"+str(edgeList[m][1])+\"\\n\"\n",
    "outfile=open(r\"C:\\Users\\Ping-tzu 2 Chu A2\\OneDrive - 清華大學\\同步文件\\2016-12 宋代筆記\\四朝聞見錄SNA.net\", \"w\", encoding=\"UTF8\")\n",
    "outfile.write(netFile)\n",
    "outfile.close\n",
    "print(\"We're done.\")                           "
   ]
  },
  {
   "cell_type": "code",
   "execution_count": null,
   "metadata": {
    "collapsed": false
   },
   "outputs": [],
   "source": [
    "aList = [5, 6]\n",
    "bList = [[5,6], 3]\n",
    "bList.append([aList, 1])\n",
    "if aList in bList[1]:\n",
    "    print(\"yes\")\n",
    "print(bList)"
   ]
  },
  {
   "cell_type": "code",
   "execution_count": 1,
   "metadata": {
    "collapsed": false
   },
   "outputs": [
    {
     "ename": "TypeError",
     "evalue": "unhashable type: 'list'",
     "output_type": "error",
     "traceback": [
      "\u001b[1;31m---------------------------------------------------------------------------\u001b[0m",
      "\u001b[1;31mTypeError\u001b[0m                                 Traceback (most recent call last)",
      "\u001b[1;32m<ipython-input-1-332505c855f4>\u001b[0m in \u001b[0;36m<module>\u001b[1;34m()\u001b[0m\n\u001b[1;32m----> 1\u001b[1;33m \u001b[0md\u001b[0m\u001b[1;33m=\u001b[0m\u001b[1;33m{\u001b[0m\u001b[1;33m[\u001b[0m\u001b[1;36m33\u001b[0m\u001b[1;33m]\u001b[0m\u001b[1;33m:\u001b[0m\u001b[1;36m2\u001b[0m\u001b[1;33m,\u001b[0m \u001b[1;33m[\u001b[0m\u001b[1;36m3\u001b[0m\u001b[1;33m,\u001b[0m\u001b[1;36m2\u001b[0m\u001b[1;33m]\u001b[0m\u001b[1;33m:\u001b[0m\u001b[1;36m1\u001b[0m\u001b[1;33m}\u001b[0m\u001b[1;33m\u001b[0m\u001b[0m\n\u001b[0m\u001b[0;32m      2\u001b[0m \u001b[0mprint\u001b[0m\u001b[1;33m(\u001b[0m\u001b[0mlen\u001b[0m\u001b[1;33m(\u001b[0m\u001b[0md\u001b[0m\u001b[1;33m)\u001b[0m\u001b[1;33m)\u001b[0m\u001b[1;33m\u001b[0m\u001b[0m\n",
      "\u001b[1;31mTypeError\u001b[0m: unhashable type: 'list'"
     ]
    }
   ],
   "source": [
    "d={[33]:2, [3,2]:1}\n",
    "print(len(d))"
   ]
  },
  {
   "cell_type": "code",
   "execution_count": null,
   "metadata": {
    "collapsed": true
   },
   "outputs": [],
   "source": []
  }
 ],
 "metadata": {
  "kernelspec": {
   "display_name": "Python 3",
   "language": "python",
   "name": "python3"
  },
  "language_info": {
   "codemirror_mode": {
    "name": "ipython",
    "version": 3
   },
   "file_extension": ".py",
   "mimetype": "text/x-python",
   "name": "python",
   "nbconvert_exporter": "python",
   "pygments_lexer": "ipython3",
   "version": "3.5.1"
  }
 },
 "nbformat": 4,
 "nbformat_minor": 0
}
