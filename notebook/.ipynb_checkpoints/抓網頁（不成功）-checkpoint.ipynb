{
 "cells": [
  {
   "cell_type": "code",
   "execution_count": null,
   "metadata": {
    "collapsed": false
   },
   "outputs": [],
   "source": [
    "import urllib.request\n",
    "for i in range(13670):\n",
    "    site1=\"http://www.cbtc2.ntpu.edu.tw/\"\n",
    "    site2=\"http://www.cbtc2.ntpu.edu.tw/list.php?pg=\"+str(i+1)    \n",
    "    with urllib.request.urlopen(site1) as response:\n",
    "        html = response.read()\n",
    "    with urllib.request.urlopen(site2) as response:\n",
    "        html = response.read()        \n",
    "        outfile=open(r\"C:\\Users\\Ping-tzu 2 Chu A1\\Documents\"+\"\\\\\"+str(i+1)+\".html\", \"bw\")\n",
    "        outfile.write(html)\n",
    "        print(i)"
   ]
  },
  {
   "cell_type": "code",
   "execution_count": null,
   "metadata": {
    "collapsed": true
   },
   "outputs": [],
   "source": []
  }
 ],
 "metadata": {
  "anaconda-cloud": {},
  "kernelspec": {
   "display_name": "Python [default]",
   "language": "python",
   "name": "python3"
  },
  "language_info": {
   "codemirror_mode": {
    "name": "ipython",
    "version": 3
   },
   "file_extension": ".py",
   "mimetype": "text/x-python",
   "name": "python",
   "nbconvert_exporter": "python",
   "pygments_lexer": "ipython3",
   "version": "3.5.2"
  }
 },
 "nbformat": 4,
 "nbformat_minor": 1
}
