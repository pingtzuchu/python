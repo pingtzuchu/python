{
 "cells": [
  {
   "cell_type": "markdown",
   "metadata": {
    "deletable": true,
    "editable": true
   },
   "source": [
    "將XML檔案切成一個一個的檔案以便分析"
   ]
  },
  {
   "cell_type": "code",
   "execution_count": null,
   "metadata": {
    "collapsed": false,
    "deletable": true,
    "editable": true
   },
   "outputs": [],
   "source": [
    "import xml.etree.ElementTree as ET\n",
    "import os\n",
    "tree = ET.parse(\"C:\\\\Users\\\\Ping-tzu 2 Chu A1\\\\Office365\\\\\" \\\n",
    "                + \"OneDrive - 清華大學\\\\同步文件\\\\程式資料\\\\Oxygen\\\\\" \\\n",
    "                + \"ChinaXML\\\\子部\\\\道\\\\莊周-莊子白文.xml\")\n",
    "root = tree.getroot()\n",
    "ns = {\"tei\":\"http://www.tei-c.org/ns/1.0\"}\n",
    "i = 1\n",
    "j = 1\n",
    "for chapter in root.findall(\"./tei:text/tei:body/tei:div/tei:div/tei:div/tei:div\", ns):\n",
    "    headText = chapter.find(\"tei:head\", ns).text\n",
    "    j = 1\n",
    "    for div in chapter.findall(\"tei:div\", ns):\n",
    "        newFile = \"\"\n",
    "        fileout = open(\"d:\\\\temp\\\\temp\\\\\"+\"0\"*(2-len(str(i)))+str(i)\\\n",
    "                       + headText +\"_\" + str(0)*(2-len(str(j))) + str(j)\\\n",
    "                       + \".txt\", \"w\", encoding=\"UTF-8\")\n",
    "        for p in div.findall(\"tei:p\", ns):\n",
    "            if (p.text):\n",
    "                newFile += \"\".join(p.itertext())+ \"\\n\"\n",
    "        fileout.write(newFile)\n",
    "        fileout.close\n",
    "        j += 1\n",
    "    i += 1\n",
    "print(\"We're done.\")                "
   ]
  },
  {
   "cell_type": "code",
   "execution_count": null,
   "metadata": {
    "collapsed": false,
    "deletable": true,
    "editable": true
   },
   "outputs": [],
   "source": [
    "import xml.etree.ElementTree as ET\n",
    "import os\n",
    "tree = ET.parse(\"C:\\\\Users\\\\Ping-tzu 2 Chu A1\\\\Office365\\\\\" \\\n",
    "                + \"OneDrive - 清華大學\\\\同步文件\\\\程式資料\\\\Oxygen\\\\\" \\\n",
    "                + \"ChinaXML\\\\子部\\\\雜家類\\\\雜學之屬\\\\墨翟-墨子白文.xml\")\n",
    "root = tree.getroot()\n",
    "ns = {\"tei\":\"http://www.tei-c.org/ns/1.0\"}\n",
    "i = 1\n",
    "for chapter in root.findall(\"./tei:text/tei:body/tei:div/tei:div\", ns):\n",
    "    headText = chapter.find(\"tei:head\", ns).text\n",
    "    newFile = \"\"\n",
    "    fileout = open(\"d:\\\\temp\\\\temp\\\\\"+\"0\"*(2-len(str(i)))+str(i)\\\n",
    "                   + headText + \".txt\", \"w\", encoding=\"UTF-8\")\n",
    "    for p in chapter.findall(\"tei:p\", ns):\n",
    "        if (p.text):\n",
    "            newFile += \"\".join(p.itertext())+ \"\\n\"\n",
    "    fileout.write(newFile)\n",
    "    fileout.close\n",
    "    i += 1\n",
    "print(\"We're done.\")                "
   ]
  },
  {
   "cell_type": "code",
   "execution_count": null,
   "metadata": {
    "collapsed": false,
    "deletable": true,
    "editable": true
   },
   "outputs": [],
   "source": [
    "import xml.etree.ElementTree as ET\n",
    "import os\n",
    "tree = ET.parse(\"d:\\\\temp\\\\宋史紀事本末.xml\")\n",
    "root = tree.getroot()\n",
    "ns = {\"tei\":\"http://www.tei-c.org/ns/1.0\"}\n",
    "i = 1\n",
    "j = 1\n",
    "for chapter in root.findall(\"./tei:text/tei:body/tei:div\", ns):\n",
    "    headText = chapter.find(\"tei:head\", ns).text\n",
    "    newFile = \"\"\n",
    "    fileout = open(\"d:\\\\temp\\\\temp\\\\\"+\"0\"*(3-len(str(i)))+str(i)\\\n",
    "                   + headText + \".txt\", \"w\", encoding=\"UTF-8\")\n",
    "    for p in chapter.findall(\"tei:p\", ns):\n",
    "        if (p.text):\n",
    "            newFile += \"\".join(p.itertext())+ \"\\n\"\n",
    "    fileout.write(newFile)\n",
    "    fileout.close\n",
    "    i += 1\n",
    "print(\"We're done.\")            "
   ]
  },
  {
   "cell_type": "markdown",
   "metadata": {
    "collapsed": true,
    "deletable": true,
    "editable": true
   },
   "source": [
    "下面的程式，將TEI第一個DIV切成一個資料夾，以head為檔名。然後，每段依序存在一個檔案"
   ]
  },
  {
   "cell_type": "code",
   "execution_count": null,
   "metadata": {
    "collapsed": false,
    "deletable": true,
    "editable": true
   },
   "outputs": [],
   "source": [
    "import os\n",
    "from bs4 import BeautifulSoup\n",
    "import lxml\n",
    "rootPath=r\"C:\\Users\\Ping-tzu 2 Chu A1\\Office365\\OneDrive - 清華大學\\同步文件\\2017-2018\\子學名著選讀\\文本\\墨子\"\n",
    "with open(r\"C:\\Users\\Ping-tzu 2 Chu A1\\Office365\\OneDrive - 清華大學\\同步文件\\2017-2018\\子學名著選讀\\文本\\墨子.xml\", 'r', encoding=\"utf8\") as infile:\n",
    "    text1 = infile.read()\n",
    "soup = BeautifulSoup(text1, \"xml\")\n",
    "pathNum = 1\n",
    "fileNum = 1\n",
    "for div in soup.find_all(\"div\"):\n",
    "    dirPath = rootPath+\"\\\\\"+\"0\"*(2-len(str(pathNum).strip())) + str(pathNum).strip() + div.head.string.strip()\n",
    "    try:\n",
    "        os.makedirs(dirPath)\n",
    "    except:\n",
    "        pass\n",
    "    for p in div.find_all(\"p\"):\n",
    "        with open(dirPath+\"\\\\\"+\"0\"*(2-len(str(fileNum).strip()))+\n",
    "                  str(fileNum).strip()+\".xml\", \"w\", encoding=\"utf8\") as outfile:\n",
    "            outfile.write(p.prettify())\n",
    "        fileNum += 1\n",
    "    fileNum = 1\n",
    "    print (str(pathNum))\n",
    "    pathNum += 1\n",
    "print(\"We're done here.\")\n",
    "    \n",
    "    "
   ]
  },
  {
   "cell_type": "markdown",
   "metadata": {
    "collapsed": true,
    "deletable": true,
    "editable": true
   },
   "source": [
    "下面的程式，將TEI第一個DIV以head為檔名切成一個個檔案。"
   ]
  },
  {
   "cell_type": "code",
   "execution_count": null,
   "metadata": {
    "collapsed": false,
    "deletable": true,
    "editable": true
   },
   "outputs": [],
   "source": [
    "import os\n",
    "from bs4 import BeautifulSoup\n",
    "import lxml\n",
    "rootPath=r\"C:\\Users\\Ping-tzu 2 Chu A1\\Office365\\OneDrive - 清華大學\\同步文件\\2017-2018\\子學名著選讀\\文本\\墨子\"\n",
    "with open(r\"C:\\Users\\Ping-tzu 2 Chu A1\\Office365\\OneDrive - 清華大學\\同步文件\\2017-2018\\子學名著選讀\\文本\\墨子.xml\", 'r', encoding=\"utf8\") as infile:\n",
    "    text1 = infile.read()\n",
    "soup = BeautifulSoup(text1, \"xml\")\n",
    "fileNum = 1\n",
    "for div in soup.find_all(\"div\"):\n",
    "    fileName = rootPath+\"\\\\\"+\"0\"*(2-len(str(fileNum).strip()))+ str(fileNum).strip() + div.head.string.strip()+\".xml\"\n",
    "    try:\n",
    "        os.makedirs(rootPath)\n",
    "    except:\n",
    "        pass\n",
    "    with open(fileName, \"w\", encoding=\"utf8\") as outfile:\n",
    "        outfile.write(div.p.prettify())\n",
    "    print (str(fileNum))\n",
    "    fileNum += 1\n",
    "print(\"We're done here.\")"
   ]
  },
  {
   "cell_type": "markdown",
   "metadata": {
    "collapsed": true,
    "deletable": true,
    "editable": true
   },
   "source": [
    "下面的程式，將TEI唯一的DIV裏的段落以號碼為檔名切成一個個檔案。"
   ]
  },
  {
   "cell_type": "code",
   "execution_count": 3,
   "metadata": {
    "collapsed": false,
    "deletable": true,
    "editable": true
   },
   "outputs": [
    {
     "name": "stdout",
     "output_type": "stream",
     "text": [
      "1\n",
      "2\n",
      "3\n",
      "4\n",
      "5\n",
      "6\n",
      "7\n",
      "8\n",
      "9\n",
      "10\n",
      "11\n",
      "12\n",
      "13\n",
      "14\n",
      "15\n",
      "16\n",
      "17\n",
      "18\n",
      "19\n",
      "20\n",
      "21\n",
      "22\n",
      "23\n",
      "24\n",
      "25\n",
      "26\n",
      "27\n",
      "28\n",
      "29\n",
      "30\n",
      "31\n",
      "32\n",
      "33\n",
      "34\n",
      "35\n",
      "36\n",
      "37\n",
      "38\n",
      "39\n",
      "40\n",
      "41\n",
      "42\n",
      "43\n",
      "44\n",
      "45\n",
      "46\n",
      "47\n",
      "48\n",
      "49\n",
      "50\n",
      "51\n",
      "52\n",
      "53\n",
      "54\n",
      "55\n",
      "56\n",
      "57\n",
      "58\n",
      "59\n",
      "60\n",
      "61\n",
      "62\n",
      "63\n",
      "64\n",
      "65\n",
      "66\n",
      "67\n",
      "68\n",
      "69\n",
      "70\n",
      "71\n",
      "72\n",
      "73\n",
      "74\n",
      "75\n",
      "76\n",
      "77\n",
      "78\n",
      "79\n",
      "80\n",
      "81\n",
      "We're done here.\n"
     ]
    }
   ],
   "source": [
    "import os\n",
    "from bs4 import BeautifulSoup\n",
    "import lxml\n",
    "rootPath=r\"C:\\Users\\Ping-tzu 2 Chu A1\\Office365\\OneDrive - 清華大學\\同步文件\\2017-2018\\子學名著選讀\\文本\\老子\"\n",
    "with open(r\"C:\\Users\\Ping-tzu 2 Chu A1\\Office365\\OneDrive - 清華大學\\同步文件\\2017-2018\\子學名著選讀\\文本\\老子.xml\", 'r', encoding=\"utf8\") as infile:\n",
    "    text1 = infile.read()\n",
    "soup = BeautifulSoup(text1, \"xml\")\n",
    "fileNum = 1\n",
    "for p in soup.find_all(\"p\"):\n",
    "    fileName = rootPath+\"\\\\\"+\"0\"*(2-len(str(fileNum).strip())) + str(fileNum).strip() + \".xml\"\n",
    "    try:\n",
    "        os.makedirs(rootPath)\n",
    "    except:\n",
    "        pass\n",
    "    with open(fileName, \"w\", encoding=\"utf8\") as outfile:\n",
    "        outfile.write(p.prettify())\n",
    "    print (str(fileNum))\n",
    "    fileNum += 1\n",
    "print(\"We're done here.\")\n",
    "    \n",
    "    "
   ]
  },
  {
   "cell_type": "code",
   "execution_count": null,
   "metadata": {
    "collapsed": true
   },
   "outputs": [],
   "source": []
  }
 ],
 "metadata": {
  "anaconda-cloud": {},
  "kernelspec": {
   "display_name": "Python [default]",
   "language": "python",
   "name": "python3"
  },
  "language_info": {
   "codemirror_mode": {
    "name": "ipython",
    "version": 3
   },
   "file_extension": ".py",
   "mimetype": "text/x-python",
   "name": "python",
   "nbconvert_exporter": "python",
   "pygments_lexer": "ipython3",
   "version": "3.5.2"
  }
 },
 "nbformat": 4,
 "nbformat_minor": 1
}
