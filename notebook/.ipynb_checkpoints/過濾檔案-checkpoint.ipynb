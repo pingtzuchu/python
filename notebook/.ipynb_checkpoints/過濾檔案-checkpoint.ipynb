{
 "cells": [
  {
   "cell_type": "markdown",
   "metadata": {},
   "source": [
    "檢查檔案是否有符合關鍵詞組的文件"
   ]
  },
  {
   "cell_type": "code",
   "execution_count": null,
   "metadata": {},
   "outputs": [],
   "source": [
    "from bs4 import BeautifulSoup\n",
    "rootDir = r\"G:\\小組雲端硬碟\\侯道儒\\qsw20171110\"\n",
    "articles = []\n",
    "keywordLists = [\n",
    "    [\"天數\",\"地數\",\"天地之數\",\"天地\"],\n",
    "    [\"數\",\"陰陽\",\"五行\",\"生成\"],\n",
    "    [\"數\",\"水\",\"火\",\"木\",\"金\",\"土\"],\n",
    "    [\"造化\",\"太極\",\"繫辭\",\"理\"],\n",
    "    [\"理\",\"天一\",\"地二\",\"天三\",\"地四\",\"天五\",\"地六\",\"天七\",\"地八\",\"天九\",\"地十\"],\n",
    "    [\"天地\",\"自然\",\"物\",\"理\"],\n",
    "    [\"太極\",\"陰陽\",\"生成\",\"造化\",\"五行\",\"理\"],\n",
    "    [\"數\",\"性理\",\"心理\"]]\n",
    "for i in range(1, 363):\n",
    "    infile = open(rootDir+\"\\\\\"+\"0\"*(3-len(str(i).strip()))+str(i).strip()+\".xml\", \"r\",\n",
    "                  encoding=\"utf8\")\n",
    "    soup = BeautifulSoup(infile.read(), \"xml\")\n",
    "    for article in soup.find_all(soup.div.div.div):\n",
    "        articleString = \"\"\n",
    "        for string in article.stripped_strings:\n",
    "            articleString += string\n",
    "        for list in keywordLists:\n",
    "            found = 0\n",
    "            for k in range(len(list)):\n",
    "                if list[k] in articleString:\n",
    "                    pass\n",
    "                else:\n",
    "                    break\n",
    "                found = 1\n",
    "            if found == 1:\n",
    "                articles.append(article[\"xml:id\"])\n",
    "                print(article[\"xml:id\"])\n",
    "                break\n",
    "    print(i)\n",
    "newFile=\"\"\n",
    "for m in range(len(articles)):\n",
    "    newFile += articles[m]+\"\\n\"\n",
    "with open(r\"G:\\小組雲端硬碟\\侯道儒\"+\"\\\\firstFilter.txt\", \"w\", encoding=\"utf8\") as outfile:\n",
    "    outfile.write(newFile)\n",
    "print(\"We're done.\")"
   ]
  },
  {
   "cell_type": "code",
   "execution_count": 4,
   "metadata": {},
   "outputs": [],
   "source": [
    "if \"it\" in [\"dkskskitlsls\", \"dksls\"]:\n",
    "    print(\"it\")"
   ]
  },
  {
   "cell_type": "code",
   "execution_count": null,
   "metadata": {
    "collapsed": true
   },
   "outputs": [],
   "source": []
  },
  {
   "cell_type": "code",
   "execution_count": null,
   "metadata": {
    "collapsed": true
   },
   "outputs": [],
   "source": []
  }
 ],
 "metadata": {
  "kernelspec": {
   "display_name": "Python 3",
   "language": "python",
   "name": "python3"
  },
  "language_info": {
   "codemirror_mode": {
    "name": "ipython",
    "version": 3
   },
   "file_extension": ".py",
   "mimetype": "text/x-python",
   "name": "python",
   "nbconvert_exporter": "python",
   "pygments_lexer": "ipython3",
   "version": "3.6.3"
  }
 },
 "nbformat": 4,
 "nbformat_minor": 2
}
