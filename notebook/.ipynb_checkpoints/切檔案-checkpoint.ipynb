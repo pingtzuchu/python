{
 "cells": [
  {
   "cell_type": "markdown",
   "metadata": {},
   "source": [
    "將XML檔案切成一個一個的檔案以便分析"
   ]
  },
  {
   "cell_type": "code",
   "execution_count": null,
   "metadata": {
    "collapsed": false
   },
   "outputs": [],
   "source": [
    "import xml.etree.ElementTree as ET\n",
    "import os\n",
    "tree = ET.parse(r\"C:\\Users\\Ping-tzu 2 Chu A1\\Office365\\OneDrive - 清華大學\\同步文件\\程式資料\\Oxygen\\ChinaXML\\子部\\道\\莊周-莊子白文.xml\")\n",
    "root = tree.getroot()\n",
    "ns = {\"tei\":\"http://www.tei-c.org/ns/1.0\"}\n",
    "i = 1\n",
    "j = 1\n",
    "for chapter in root.findall(\"./tei:text/tei:body/tei:div/tei:div/tei:div/tei:div\", ns):\n",
    "    newFile = \"\"\n",
    "    headText = chapter.find(\"tei:head\", ns).text\n",
    "    dir = \"d:\\\\temp\\\\temp\\\\\"+str(0)*(2-len(str(i))) + str(i) \\\n",
    "    + headText\n",
    "    os.makedirs(dir)\n",
    "    print(headText)\n",
    "    j = 1\n",
    "    i += 1\n",
    "    for div in chapter:\n",
    "        fileout = open(dir + \"\\\\\" + str(0)*(2-len(str(j))) + str(j)\\\n",
    "                       + \".txt\", \"w\", encoding=\"UTF-8\")\n",
    "        for p in div.findall(\"tei:p\", ns):\n",
    "            if (p.text):\n",
    "                newFile += p.text\n",
    "        fileout.write(newFile)\n",
    "        fileout.close\n",
    "        j += 1\n",
    "print(\"We're done.\")                "
   ]
  },
  {
   "cell_type": "code",
   "execution_count": null,
   "metadata": {
    "collapsed": true
   },
   "outputs": [],
   "source": []
  },
  {
   "cell_type": "code",
   "execution_count": null,
   "metadata": {
    "collapsed": true
   },
   "outputs": [],
   "source": []
  }
 ],
 "metadata": {
  "anaconda-cloud": {},
  "kernelspec": {
   "display_name": "Python [default]",
   "language": "python",
   "name": "python3"
  },
  "language_info": {
   "codemirror_mode": {
    "name": "ipython",
    "version": 3
   },
   "file_extension": ".py",
   "mimetype": "text/x-python",
   "name": "python",
   "nbconvert_exporter": "python",
   "pygments_lexer": "ipython3",
   "version": "3.5.2"
  }
 },
 "nbformat": 4,
 "nbformat_minor": 1
}
