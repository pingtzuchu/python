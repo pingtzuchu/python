{
 "cells": [
  {
   "cell_type": "markdown",
   "metadata": {},
   "source": [
    "The following codes add the \".xml\" extension to files"
   ]
  },
  {
   "cell_type": "code",
   "execution_count": null,
   "metadata": {
    "collapsed": true
   },
   "outputs": [],
   "source": [
    "import os\n",
    "rootdir = r\"D:\\kanripo_div\"\n",
    "for root, subdirs, files in os.walk(rootdir):\n",
    "    for file in files:\n",
    "        os.rename(os.path.join(root,file), os.path.join(root,file+\".xml\"))\n",
    "print (\"We're done.\")"
   ]
  },
  {
   "cell_type": "markdown",
   "metadata": {},
   "source": [
    "The following codes change the extension from \".xml.xml\" into \".xml\""
   ]
  },
  {
   "cell_type": "code",
   "execution_count": null,
   "metadata": {},
   "outputs": [],
   "source": [
    "import os\n",
    "rootdir = r\"G:\\我的雲端硬碟\\資料\\全文\\漢語大詞典\\text\"\n",
    "for root, subdirs, files in os.walk(rootdir):\n",
    "    for file in files:\n",
    "        if file[:12]==\"-Unlicensed-\":\n",
    "            os.rename(os.path.join(root,file), os.path.join(root,file[12:]))\n",
    "print (\"We're done.\")"
   ]
  },
  {
   "cell_type": "code",
   "execution_count": null,
   "metadata": {
    "collapsed": true
   },
   "outputs": [],
   "source": [
    "import os\n",
    "rootdir = r\"C:\\Users\\Ping-tzu 2 Chu A1\\Documents\\ccdata\"\n",
    "for root, subdirs, files in os.walk(rootdir):\n",
    "    for file in files:\n",
    "        if file[-8:]==\".xml.bak\":\n",
    "            os.rename(os.path.join(root,file), os.path.join(root,file[0:-4]))\n",
    "print (\"We're done.\")"
   ]
  },
  {
   "cell_type": "markdown",
   "metadata": {},
   "source": [
    "the following codes add the TEI header and footer into files."
   ]
  },
  {
   "cell_type": "code",
   "execution_count": null,
   "metadata": {
    "collapsed": true
   },
   "outputs": [],
   "source": [
    "import os\n",
    "import re\n",
    "rootdir = r\"D:\\kanripo_tei\"\n",
    "for root, subdirs, files in os.walk(rootdir):\n",
    "    for file in files:\n",
    "        infile = open(os.path.join(root, file), \"r+\", encoding=\"UTF8\")\n",
    "        newDoc=\"\"\"<?xml-model href=\"http://www.tei-c.org/release/xml/tei/custom/schema/relaxng/tei_all.rng\" type=\"application/xml\" schematypens=\"http://relaxng.org/ns/structure/1.0\"?>\n",
    "<TEI xmlns=\"http://www.tei-c.org/ns/1.0\">\n",
    "  <teiHeader>\n",
    "      <fileDesc>\n",
    "         <titleStmt>\n",
    "            <title>Title</title>\n",
    "         </titleStmt>\n",
    "         <publicationStmt>\n",
    "            <p>Publication Information</p>\n",
    "         </publicationStmt>\n",
    "         <sourceDesc>\n",
    "            <p>kanripo.org</p>\n",
    "         </sourceDesc>\n",
    "      </fileDesc>\n",
    "  </teiHeader>\n",
    "  <text>\n",
    "      <body>\n",
    "                \"\"\"\n",
    "        newDoc += infile.read()\n",
    "        newDoc += \"</body>\\n</TEI>\"\n",
    "        infile.write(newDoc)\n",
    "print (\"We're done.\")"
   ]
  },
  {
   "cell_type": "markdown",
   "metadata": {},
   "source": [
    "The following codes add in the distinct offices into ontology format"
   ]
  },
  {
   "cell_type": "code",
   "execution_count": null,
   "metadata": {
    "collapsed": true
   },
   "outputs": [],
   "source": [
    "import csv\n",
    "import xml.etree.ElementTree as ET\n",
    "tree = ET.parse(r\"C:\\Users\\Ping-tzu 2 Chu A1\\Office365\\OneDrive - 清華大學\\同步文件\\程式資料\\OWL\\cbdb.owl\")\n",
    "ontoRoot = tree.getroot()\n",
    "ns = {\"on\":\"http://www.w3.org/2002/07/owl#\"}\n",
    "ontoName = []\n",
    "for entity in ontoRoot.findall(\"on:Declaration\", ns):\n",
    "    entityName = entity.find(\"*\").get(\"IRI\")\n",
    "    if not (entityName in ontoName):\n",
    "        ontoName.append(entityName)\n",
    "strList = []\n",
    "strDic = {}\n",
    "newDoc = \"\"\n",
    "with open(r\"D:\\temp\\OFFICE_TYPE_TREE.csv\", encoding = \"UTF8\", errors=\"replace\") as csvfile:\n",
    "    spreadsheet = csv.reader(csvfile, delimiter=\",\", quotechar = '“')    \n",
    "    for row in spreadsheet:\n",
    "        if len(row[0])==2:\n",
    "            tempStr = \"職官類別：\"+row[1]\n",
    "        elif row[1] in ontoName:\n",
    "            tempStr = row[1]+\"_\"+row[0]\n",
    "        else:\n",
    "            tempStr = row[1]\n",
    "        print (tempStr)\n",
    "        strList.append(tempStr)\n",
    "        strDic[row[0]]=tempStr\n",
    "        newDoc += \"<Declaration><Class IRI='#\"+tempStr+\"'/></Declaration>\\n\"\n",
    "        if len(row[0]) > 2:\n",
    "            newDoc += \"<SubClassOf><Class IRI='#\"+tempStr + \"'/><Class IRI='#\"+strDic[row[0][:-2]]+\"'/></SubClassOf>\\n\"\n",
    "with open(r\"d:\\temp\\temp.txt\", \"w\", encoding=\"UTF8\") as outfile:\n",
    "    outfile.write(newDoc)\n",
    "with open(r\"d:\\temp\\temp1.txt\", \"w\", encoding=\"UTF8\") as outfile1:\n",
    "    newDoc=\"\"\n",
    "    for i in strList:\n",
    "        newDoc += i+\"\\n\"\n",
    "    outfile1.write(newDoc)\n",
    "print (\"We're done.\")   "
   ]
  },
  {
   "cell_type": "markdown",
   "metadata": {},
   "source": [
    "檢查跳號"
   ]
  },
  {
   "cell_type": "code",
   "execution_count": null,
   "metadata": {
    "collapsed": true
   },
   "outputs": [],
   "source": [
    "import os.path\n",
    "rootdir = r\"D:\\AS\\漢籍十三經注疏\"\n",
    "missingFiles=[]\n",
    "for i in range(0,2754):\n",
    "    if os.path.isfile(os.path.join(rootdir, str(i).strip()+\".html\")):\n",
    "        pass\n",
    "    else:\n",
    "        missingFiles.append(str(i).strip())\n",
    "print(missingFiles)\n",
    "print (\"We're done.\")"
   ]
  },
  {
   "cell_type": "markdown",
   "metadata": {},
   "source": [
    "刪除子資料夾中的檔案"
   ]
  },
  {
   "cell_type": "code",
   "execution_count": null,
   "metadata": {},
   "outputs": [],
   "source": [
    "import os\n",
    "import shutil\n",
    "rootDir = r\"F:\\AS\\知不足齋\"\n",
    "for root, subdirs, files in os.walk(rootDir):\n",
    "    for subdir in subdirs:\n",
    "        shutil.rmtree(os.path.join(root, subdir))\n",
    "        print(os.path.join(root,subdir))\n",
    "print(\"We're done.\")"
   ]
  },
  {
   "cell_type": "code",
   "execution_count": null,
   "metadata": {
    "collapsed": true
   },
   "outputs": [],
   "source": []
  },
  {
   "cell_type": "code",
   "execution_count": null,
   "metadata": {
    "collapsed": true
   },
   "outputs": [],
   "source": []
  }
 ],
 "metadata": {
  "anaconda-cloud": {},
  "kernelspec": {
   "display_name": "Python 3",
   "language": "python",
   "name": "python3"
  },
  "language_info": {
   "codemirror_mode": {
    "name": "ipython",
    "version": 3
   },
   "file_extension": ".py",
   "mimetype": "text/x-python",
   "name": "python",
   "nbconvert_exporter": "python",
   "pygments_lexer": "ipython3",
   "version": "3.6.3"
  }
 },
 "nbformat": 4,
 "nbformat_minor": 1
}
