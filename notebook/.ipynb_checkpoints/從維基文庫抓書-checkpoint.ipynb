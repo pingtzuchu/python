{
 "cells": [
  {
   "cell_type": "code",
   "execution_count": 13,
   "metadata": {
    "collapsed": false
   },
   "outputs": [
    {
     "name": "stdout",
     "output_type": "stream",
     "text": [
      "title周易正義\n"
     ]
    },
    {
     "name": "stderr",
     "output_type": "stream",
     "text": [
      "C:\\Program Files\\Anaconda3\\lib\\site-packages\\bs4\\__init__.py:181: UserWarning: No parser was explicitly specified, so I'm using the best available HTML parser for this system (\"lxml\"). This usually isn't a problem, but if you run this code on another system, or in a different virtual environment, it may use a different parser and behave differently.\n",
      "\n",
      "The code that caused this warning is on line 184 of the file C:\\Program Files\\Anaconda3\\lib\\runpy.py. To get rid of this warning, change code that looks like this:\n",
      "\n",
      " BeautifulSoup([your markup])\n",
      "\n",
      "to this:\n",
      "\n",
      " BeautifulSoup([your markup], \"lxml\")\n",
      "\n",
      "  markup_type=markup_type))\n"
     ]
    },
    {
     "name": "stdout",
     "output_type": "stream",
     "text": [
      "We're done.\n"
     ]
    }
   ],
   "source": [
    "import requests\n",
    "import re\n",
    "from bs4 import BeautifulSoup\n",
    "import lxml\n",
    "def getBook(title):\n",
    "    site = 'https://zh.wikisource.org'\n",
    "    res = requests.get('https://zh.wikisource.org/wiki/'+title)\n",
    "    soup = BeautifulSoup(res.text, \"lxml\")\n",
    "    newFile=\"\"\"<!DOCTYPE html>\n",
    "        <html>\n",
    "        <head>\n",
    "        <title>\"\"\"\n",
    "    newFile += title\n",
    "    newFile += \"\"\"</title>\n",
    "        </head>\n",
    "        <body>\"\"\"\n",
    "\n",
    "    for link in soup.find_all(\"a\", title=re.compile(title+\"/\")):\n",
    "\n",
    "        href = link[\"href\"]\n",
    "\n",
    "        pageTitle = link[\"title\"][5:]\n",
    "\n",
    "        page = BeautifulSoup(requests.get(site+href, \"html.parser\").text)\n",
    "\n",
    "        newFile += \"<div><h1>\"+pageTitle+\"</h1>\"\n",
    "\n",
    "        for p in page.find_all(\"p\"):\n",
    "\n",
    "            newFile += p.prettify()\n",
    "\n",
    "        newFile += \"</div>\"\n",
    "\n",
    "    newFile += \"</body></html>\"\n",
    "\n",
    "    with open(\"d:\\\\temp\\\\十三經注疏\\\\\"+title+\".html\", \"w\", encoding=\"utf-8\") as outFile:\n",
    "\n",
    "        outFile.write(newFile)\n",
    "\n",
    "title=input(\"title\")\n",
    "getBook(title)\n",
    "print(\"We're done.\")"
   ]
  },
  {
   "cell_type": "code",
   "execution_count": null,
   "metadata": {
    "collapsed": true
   },
   "outputs": [],
   "source": []
  }
 ],
 "metadata": {
  "kernelspec": {
   "display_name": "Python [conda root]",
   "language": "python",
   "name": "conda-root-py"
  },
  "language_info": {
   "codemirror_mode": {
    "name": "ipython",
    "version": 3
   },
   "file_extension": ".py",
   "mimetype": "text/x-python",
   "name": "python",
   "nbconvert_exporter": "python",
   "pygments_lexer": "ipython3",
   "version": "3.5.2"
  }
 },
 "nbformat": 4,
 "nbformat_minor": 1
}
