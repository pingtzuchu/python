{
 "cells": [
  {
   "cell_type": "code",
   "execution_count": null,
   "metadata": {},
   "outputs": [],
   "source": [
    "import xml.etree.ElementTree as ET\n",
    "import re\n",
    "ns={\"tei\":\"http://www.tei-c.org/ns/1.0\"}\n",
    "newtree = ET.fromstring(\"<div></div>\")\n",
    "print(newtree.tag)\n",
    "howmany=0\n",
    "filePath=r\"C:\\Users\\Ping-tzu 2 Chu A1\\Google 雲端硬碟\\Cloud Drive\\程式資料\\Oxygen\\data\\qsw\"\n",
    "for i in range(1,363):\n",
    "    print (i)\n",
    "    tree=ET.parse(filePath+\"\\\\\"+\"0\"*(3-len(str(i)))+str(i)+\".xml\")\n",
    "    root=tree.getroot()\n",
    "    for div in root.findall(\"./tei:text/tei:body/tei:div/tei:div//tei:div\", ns):\n",
    "        head = div.find(\"tei:head\",ns)\n",
    "        if not head==None:\n",
    "            if re.search(\"學‧.*志\", str(head.text)):\n",
    "                newtree.append(div)\n",
    "                howmany += 1\n",
    "tree._setroot(newtree)\n",
    "tree.write(r\"c:\\temp\\xuezhi.xml\", encoding=\"utf8\")\n",
    "print(\"We're done.\")\n",
    "print(howmany)\n"
   ]
  },
  {
   "cell_type": "code",
   "execution_count": null,
   "metadata": {
    "collapsed": true
   },
   "outputs": [],
   "source": []
  },
  {
   "cell_type": "code",
   "execution_count": null,
   "metadata": {
    "collapsed": true
   },
   "outputs": [],
   "source": []
  }
 ],
 "metadata": {
  "kernelspec": {
   "display_name": "Python 3",
   "language": "python",
   "name": "python3"
  },
  "language_info": {
   "codemirror_mode": {
    "name": "ipython",
    "version": 3
   },
   "file_extension": ".py",
   "mimetype": "text/x-python",
   "name": "python",
   "nbconvert_exporter": "python",
   "pygments_lexer": "ipython3",
   "version": "3.6.3"
  }
 },
 "nbformat": 4,
 "nbformat_minor": 1
}
