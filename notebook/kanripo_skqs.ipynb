{
 "cells": [
  {
   "cell_type": "markdown",
   "metadata": {},
   "source": [
    "作用：將Kanripo（漢籍）裏的《四庫全書》資料轉成TEI"
   ]
  },
  {
   "cell_type": "markdown",
   "metadata": {},
   "source": [
    "滙入模組"
   ]
  },
  {
   "cell_type": "code",
   "execution_count": null,
   "metadata": {
    "collapsed": true
   },
   "outputs": [],
   "source": [
    "import os\n",
    "import re\n",
    "import docx"
   ]
  },
  {
   "cell_type": "markdown",
   "metadata": {},
   "source": [
    "設定資料來源"
   ]
  },
  {
   "cell_type": "code",
   "execution_count": null,
   "metadata": {
    "collapsed": true
   },
   "outputs": [],
   "source": [
    "source=r\"C:\\Users\\Ping-tzu 2 Chu A1\\Google 雲端硬碟\\Cloud Drive\\\\中國\""
   ]
  },
  {
   "cell_type": "markdown",
   "metadata": {},
   "source": [
    "處理資料：以每行為單位來進行\n",
    "*資料的特點\n",
    "**每卷分開\n",
    "**每行前的的空格\n",
    "***沒空格（不處理）\n",
    "***空一格（不處理）\n",
    "***空二格（卷第二層標題）\n",
    "***空三格（卷第三層標題）\n",
    "***空四格（提要）\n",
    "***空四格以上（作者名稱）\n",
    "*"
   ]
  },
  {
   "cell_type": "code",
   "execution_count": null,
   "metadata": {
    "collapsed": true
   },
   "outputs": [],
   "source": [
    "for root, dirs, filenames in os.walk(source):\n",
    "    for f in filenames:\n",
    "        if (f[-4:]==\"docx\") and (not f[0]==\"~\"):\n",
    "            fullname=os.path.join(root,f)\n",
    "            print (fullname)\n",
    "            document=docx.Document(fullname)\n",
    "            if document.paragraphs[0].text[0:2]==\"##\":\n",
    "                newDoc=\"\"\"<?xml version=\"1.0\" encoding=\"UTF-8\"?>\n",
    "<?xml-model href=\"http://www.tei-c.org/release/xml/tei/custom/schema/relaxng/tei_all.rng\" type=\"application/xml\" schematypens=\"http://relaxng.org/ns/structure/1.0\"?>\n",
    "<?xml-model href=\"http://www.tei-c.org/release/xml/tei/custom/schema/relaxng/tei_all.rng\" type=\"application/xml\"\n",
    "\tschematypens=\"http://purl.oclc.org/dsdl/schematron\"?>\n",
    "<TEI xmlns=\"http://www.tei-c.org/ns/1.0\">\n",
    "  <teiHeader>\n",
    "      <fileDesc>\n",
    "         <titleStmt>\n",
    "            <title>Title</title>\n",
    "         </titleStmt>\n",
    "         <publicationStmt>\n",
    "            <p>Publication Information</p>\n",
    "         </publicationStmt>\n",
    "         <sourceDesc>\n",
    "            <p>Information about the source</p>\n",
    "         </sourceDesc>\n",
    "      </fileDesc>\n",
    "  </teiHeader>\n",
    "  <text>\n",
    "      <body>\n",
    "                \"\"\" #newXMLfile with several quan <div>s\n",
    "                quanTitle=[] #Title for Quan first level of div\n",
    "                xmlLevel=0 #div level\n",
    "                pageNumber=1 #page number\n",
    "                lineNumber=1 #line number line8 add PageAB line16 add PageNumber\n",
    "                lineBreak=0 #whether the line is broken\n",
    "                hi=re.compile(r\"(　[^\\s　<>]+)\\s([^\\s　<>]*?)　\", re.A)\n",
    "                hi2=re.compile(r\"　([^\\s　<>]+)\\s([^\\s　<>]*?)$\", re.A)\n",
    "                for para in document.paragraphs: #deal with each paragraph\n",
    "                    if para.text[0:2]==\"##\": # test whether begins with \"##\"\n",
    "                        pageTitle=para.text.split(\"/\")\n",
    "                        if len(pageTitle)==1: #if only \"##\" => end of file\n",
    "                            break\n",
    "                        quan=pageTitle[len(pageTitle)-1]\n",
    "                        lineNumber=0 #set lineNumber to 0\n",
    "                        if not (quan in quanTitle): #test whether it is a new quan title\n",
    "                            quanTitle.append(quan) #add the title into the quan title list\n",
    "                            if not xmlLevel==0:\n",
    "                                newDoc += \"<pb n='\"+str(pageNumber)+\"b'/></p>\\n\" + \"</div>\" * xmlLevel\n",
    "                            newDoc += \"\\n<div><head>\" + quan + \"</head>\\n\" #add in new quan title\n",
    "                            pageNumber = 1\n",
    "                            xmlLevel = 1\n",
    "                        else:\n",
    "                            newDoc += \"<pb n='\"+str(pageNumber)+\"b'/></p>\\n\"\n",
    "                            pageNumber += 1\n",
    "                        newDoc += \"<p>\"\n",
    "                    else:\n",
    "                        if len(para.text)==0: # empty line\n",
    "                            if lineBreak==0: # in not linebreak\n",
    "                                lineNumber += 1\n",
    "                        else: # not empty line\n",
    "                            if lineBreak == 0:\n",
    "                                text=para.text\n",
    "                                while re.search(hi, text):\n",
    "                                    text = re.sub(hi, r\"<hi>\\1\\2</hi>　\", text) # hi\n",
    "                                if re.search(hi2, text): #hi2 first line of broken line\n",
    "                                    text=re.sub(hi2, r\"<hi>\\1\\2\", text)\n",
    "                                    lineBreak = 1\n",
    "                                    lineNumber =  lineNumber-1\n",
    "                                if re.match(r\"\\A　　　([^　])\", text): #heading level 3\n",
    "                                    if xmlLevel==3:\n",
    "                                        text = re.sub(r\"\\A　　　([^　])\", r\"</p></div>\\n<div><head>\\1\", text)\n",
    "                                    else:\n",
    "                                        text = re.sub(r\"\\A　　　([^　])\", r\"</p>\\n<div><head>\\1\", text)\n",
    "                                        xmlLevel=3\n",
    "                                    text += \"</head>\\n<p>\"\n",
    "                                if re.match(r\"\\A　　([^　])\", text): #heading level 2\n",
    "                                    if xmlLevel==2:\n",
    "                                        text = re.sub(r\"\\A　　([^　])\", r\"</p></div>\\n<div><head>\\1\", text)\n",
    "                                    elif xmlLevel==1:\n",
    "                                        xmlLevel=2\n",
    "                                        text = re.sub(r\"\\A　　([^　])\", r\"</p><div><head>\\1\", text)\n",
    "                                    elif xmlLevel==3:\n",
    "                                        xmlLevel=2\n",
    "                                        text = re.sub(r\"\\A　　([^　])\", r\"</p></div></div>\\n<div><head>\\1\", text)\n",
    "                                    text += \"</head>\\n<p>\"\n",
    "                                newDoc += text+\"\\n\"\n",
    "                                lineNumber  += 1\n",
    "                            else: #if there is a lineBreak\n",
    "                                lineBreak = 0\n",
    "                                lineNumber += 1\n",
    "                                newDoc += para.text + \"</hi>\\n\"\n",
    "                        if lineNumber == 9:\n",
    "                            newDoc += \"<pb n='\"+str(pageNumber)+\"a'/>\"\n",
    "                newDoc += \"<pb n='\"+str(pageNumber)+\"b'/></p>\\n\" + \"</div>\" * (xmlLevel+1) + \"</body></text></TEI>\"\n",
    "                newName=r\"C:\\Users\\Ping-tzu 2 Chu A1\\Google 雲端硬碟\\Cloud Drive\\程式資料\\Oxygen\\ChinaXML\" + fullname[58:-4]+\"xml\"\n",
    "                fw = open(newName, \"w\", encoding=\"utf-8\")\n",
    "                fw.write(newDoc)\n",
    "                fw.close\n",
    "                os.remove(fullname)"
   ]
  }
 ],
 "metadata": {
  "kernelspec": {
   "display_name": "Python [default]",
   "language": "python",
   "name": "python3"
  },
  "language_info": {
   "codemirror_mode": {
    "name": "ipython",
    "version": 3
   },
   "file_extension": ".py",
   "mimetype": "text/x-python",
   "name": "python",
   "nbconvert_exporter": "python",
   "pygments_lexer": "ipython3",
   "version": "3.5.2"
  }
 },
 "nbformat": 4,
 "nbformat_minor": 1
}
