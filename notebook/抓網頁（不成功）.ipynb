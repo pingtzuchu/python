{
 "cells": [
  {
   "cell_type": "code",
   "execution_count": null,
   "metadata": {
    "collapsed": false
   },
   "outputs": [],
   "source": [
    "import urllib.request\n",
    "for i in range(13670):\n",
    "    site1=\"http://www.cbtc2.ntpu.edu.tw/\"\n",
    "    site2=\"http://www.cbtc2.ntpu.edu.tw/list.php?pg=\"+str(i+1)    \n",
    "    with urllib.request.urlopen(site1) as response:\n",
    "        html = response.read()\n",
    "    with urllib.request.urlopen(site2) as response:\n",
    "        html = response.read()        \n",
    "        outfile=open(r\"C:\\Users\\Ping-tzu 2 Chu A1\\Documents\"+\"\\\\\"+str(i+1)+\".html\", \"bw\")\n",
    "        outfile.write(html)\n",
    "        print(i)"
   ]
  },
  {
   "cell_type": "code",
   "execution_count": null,
   "metadata": {
    "collapsed": true
   },
   "outputs": [],
   "source": [
    "# -*- coding: utf-8 -*-\n",
    "from selenium import webdriver\n",
    "from selenium.webdriver.common.by import By\n",
    "from selenium.webdriver.common.keys import Keys\n",
    "from selenium.webdriver.support.ui import Select\n",
    "from selenium.common.exceptions import NoSuchElementException\n",
    "from selenium.common.exceptions import NoAlertPresentException\n",
    "import unittest, time, re\n",
    "\n",
    "class TaiwaneseDiary(unittest.TestCase):\n",
    "    def setUp(self):\n",
    "        self.driver = webdriver.Firefox()\n",
    "        self.driver.implicitly_wait(30)\n",
    "        self.base_url = \"http://taco.ith.sinica.edu.tw/tdk\"\n",
    "        self.verificationErrors = []\n",
    "        self.accept_next_alert = True\n",
    "    \n",
    "    def test_taiwanese_diary(self):\n",
    "        driver = self.driver\n",
    "        driver.get(self.base_url)\n",
    "        driver.find_element_by_id(\"yui_3_10_0_1_1492270389697_276\").click()\n",
    "        driver.find_element_by_css_selector(u\"img[alt=\\\"灌園先生日記封面\\\"]\").click()\n",
    "        driver.find_element_by_xpath(u\"(//a[contains(text(),'登入')])[2]\").click()\n",
    "        driver.find_element_by_id(\"wpName1\").clear()\n",
    "        driver.find_element_by_id(\"wpName1\").send_keys(\"pingtzuchu\")\n",
    "        driver.find_element_by_id(\"wpPassword1\").clear()\n",
    "        driver.find_element_by_id(\"wpPassword1\").send_keys(\"kaijun2\")\n",
    "        driver.find_element_by_id(\"wpRemember\").click()\n",
    "        driver.find_element_by_id(\"wpLoginAttempt\").click()\n",
    "        driver.find_element_by_link_text(u\"昭和二年（民國十六年，一九二七年）\").click()\n",
    "        driver.find_element_by_link_text(u\"一月\").click()\n",
    "    \n",
    "    def is_element_present(self, how, what):\n",
    "        try: self.driver.find_element(by=how, value=what)\n",
    "        except NoSuchElementException as e: return False\n",
    "        return True\n",
    "    \n",
    "    def is_alert_present(self):\n",
    "        try: self.driver.switch_to_alert()\n",
    "        except NoAlertPresentException as e: return False\n",
    "        return True\n",
    "    \n",
    "    def close_alert_and_get_its_text(self):\n",
    "        try:\n",
    "            alert = self.driver.switch_to_alert()\n",
    "            alert_text = alert.text\n",
    "            if self.accept_next_alert:\n",
    "                alert.accept()\n",
    "            else:\n",
    "                alert.dismiss()\n",
    "            return alert_text\n",
    "        finally: self.accept_next_alert = True\n",
    "    \n",
    "    def tearDown(self):\n",
    "        self.driver.quit()\n",
    "        self.assertEqual([], self.verificationErrors)\n",
    "\n",
    "if __name__ == \"__main__\":\n",
    "    unittest.main()\n"
   ]
  },
  {
   "cell_type": "code",
   "execution_count": null,
   "metadata": {
    "collapsed": true
   },
   "outputs": [],
   "source": [
    "from selenium import webdriver\n",
    "from selenium.webdriver.common.by import By\n",
    "from selenium.webdriver.common.keys import Keys\n",
    "from selenium.webdriver.support.ui import Select\n",
    "from selenium.common.exceptions import NoSuchElementException\n",
    "from selenium.common.exceptions import NoAlertPresentException\n",
    "import"
   ]
  }
 ],
 "metadata": {
  "anaconda-cloud": {},
  "kernelspec": {
   "display_name": "Python [default]",
   "language": "python",
   "name": "python3"
  },
  "language_info": {
   "codemirror_mode": {
    "name": "ipython",
    "version": 3
   },
   "file_extension": ".py",
   "mimetype": "text/x-python",
   "name": "python",
   "nbconvert_exporter": "python",
   "pygments_lexer": "ipython3",
   "version": "3.5.2"
  }
 },
 "nbformat": 4,
 "nbformat_minor": 1
}
