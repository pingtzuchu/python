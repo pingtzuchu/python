{
 "cells": [
  {
   "cell_type": "code",
   "execution_count": null,
   "metadata": {
    "collapsed": false
   },
   "outputs": [],
   "source": [
    "import xml.etree.ElementTree as ET\n",
    "import re\n",
    "tree = ET.parse(\"/Users/pingtzuhu/Google 雲端硬碟/Cloud Drive/程式資料/Oxygen/SHY/shy-2-TEI-P5.xml\")\n",
    "root = tree.getroot()\n",
    "ns = {\"tei\":\"http://www.tei-c.org/ns/1.0\"}\n",
    "firstString=\"\"\n",
    "secondString=\"\"\n",
    "listOfHeading=[]\n",
    "listOfcontent=[]\n",
    "tempDiv=ET.fromstring(\"<div></div>\")\n",
    "tempFirstDiv=ET.fromstring(\"<div></div>\")\n",
    "tempSecondDiv=ET.fromstring(\"<div></div>\")\n",
    "body = root.find(\"./tei:text/tei:body\", ns)\n",
    "currentNode=body\n",
    "collectFirstString=False\n",
    "contentInDiv=False\n",
    "divLevel=0\n",
    "repetition=0\n",
    "'''\n",
    "judge whether div or not\n",
    "if yes, adding a div and set it as currentNode\n",
    "if no, append it to currentNode\n",
    "delete the p\n",
    "if div having the same page number, turn them into hierarchical structure\n",
    "'''\n",
    "for p in body.findall(\"tei:p\", ns):\n",
    "    if not(p.text==None):\n",
    "        if (p.get(\"rend\")==\"heading 3\") and (p.text.find(\"(P\")> -1):\n",
    "            tempDiv.append(ET.fromstring(\"<div><head>\"+p.text+\"</head></div>\"))\n",
    "            divLevel=1\n",
    "        else:\n",
    "            if divLevel==0:\n",
    "                tempDiv.append(ET.fromstring(\"<div/>\"))\n",
    "                divLevel=1\n",
    "            tempDiv.find(\"div[last()]\").append(p)\n",
    "tree._setroot(tempDiv)\n",
    "tree.write(\"/Users/pingtzuhu/Google 雲端硬碟/Cloud Drive/程式資料/Oxygen/SHY/shy-new2.xml\", encoding=\"UTF-8\")\n",
    "print(\"We're done.\")\n"
   ]
  },
  {
   "cell_type": "code",
   "execution_count": null,
   "metadata": {
    "collapsed": false
   },
   "outputs": [],
   "source": [
    "infile=open(\"/Users/pingtzuhu/Google 雲端硬碟/Cloud Drive/程式資料/Oxygen/SHY/shy-new2.xml\", \"r\")\n",
    "newfile=infile.read()\n",
    "newfile=newfile.replace(\"ns0:\", \"\")\n",
    "outfile=open(\"/Users/pingtzuhu/Google 雲端硬碟/Cloud Drive/程式資料/Oxygen/SHY/shy-new2-1.xml\", \"w\", encoding=\"UTF8\")\n",
    "outfile.write(newfile)\n",
    "print(\"We're done.\")"
   ]
  },
  {
   "cell_type": "code",
   "execution_count": 3,
   "metadata": {
    "collapsed": false
   },
   "outputs": [
    {
     "name": "stdout",
     "output_type": "stream",
     "text": [
      "We're done.\n"
     ]
    }
   ],
   "source": [
    "import xml.etree.ElementTree as ET\n",
    "import re\n",
    "tree = ET.parse(\"/Users/pingtzuhu/Google 雲端硬碟/Cloud Drive/程式資料/Oxygen/SHY/shy-12-TEI-P5.xml\")\n",
    "root = tree.getroot()\n",
    "ns = {\"tei\":\"http://www.tei-c.org/ns/1.0\"}\n",
    "body = root.find(\"./tei:text/tei:body\", ns)\n",
    "strOne=\"\"\n",
    "strTwo=\"\"\n",
    "'''\n",
    "judge whether div or not\n",
    "if yes, adding a div and set it as currentNode\n",
    "if no, append it to currentNode\n",
    "delete the p\n",
    "if div having the same page number, turn them into hierarchical structure\n",
    "'''\n",
    "for i in range(1, len(body.findall(\"tei:div\", ns))+1):\n",
    "    for p in body.findall(\"tei:div[\"+str(i)+\"]/tei:p\", ns):\n",
    "        try:\n",
    "            strTwo += p.text\n",
    "        except:\n",
    "            pass\n",
    "    if not(strOne==\"\") and not (strTwo==\"\") and (strOne in strTwo) and i>2:\n",
    "        for child in body.find(\"tei:div[\"+str(i-1)+\"]\", ns).findall(\"tei:p\", ns):\n",
    "                body.find(\"tei:div[\"+str(i-1)+\"]\", ns).remove(child)\n",
    "    strOne=strTwo\n",
    "    strTwo=\"\"\n",
    "tree.write(\"/Users/pingtzuhu/Google 雲端硬碟/Cloud Drive/程式資料/Oxygen/SHY/shy-new12new.xml\", encoding=\"UTF-8\")\n",
    "print(\"We're done.\")\n"
   ]
  },
  {
   "cell_type": "code",
   "execution_count": null,
   "metadata": {
    "collapsed": true
   },
   "outputs": [],
   "source": []
  }
 ],
 "metadata": {
  "kernelspec": {
   "display_name": "Python 3",
   "language": "python",
   "name": "python3"
  },
  "language_info": {
   "codemirror_mode": {
    "name": "ipython",
    "version": 3
   },
   "file_extension": ".py",
   "mimetype": "text/x-python",
   "name": "python",
   "nbconvert_exporter": "python",
   "pygments_lexer": "ipython3",
   "version": "3.5.1"
  }
 },
 "nbformat": 4,
 "nbformat_minor": 0
}
