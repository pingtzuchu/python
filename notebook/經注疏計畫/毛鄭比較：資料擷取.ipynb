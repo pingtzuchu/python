{
 "cells": [
  {
   "cell_type": "markdown",
   "metadata": {},
   "source": [
    "擷取資料"
   ]
  },
  {
   "cell_type": "code",
   "execution_count": null,
   "metadata": {
    "collapsed": true
   },
   "outputs": [],
   "source": [
    "from bs4 import BeautifulSoup\n",
    "import re\n",
    "with open(r\"G:\\小組雲端硬碟\\儒家經典注疏\\十三經注疏\\網站檔案\\KR1c1001.xml\", \"r\", encoding=\"utf8\") as infile:\n",
    "    soup=BeautifulSoup(infile.read(), \"xml\")\n",
    "shu = soup.find_all(\"p\", n=\"疏\")\n",
    "result = \"\"\n",
    "query = re.compile(r\"(?<=[>○，。！？：」])[^>○，。！？：」]*[鄭毛][^「」>○，。！？：<]*\")\n",
    "query1 = re.compile(r\"(?<=[>○，。！？：」])[^>○，。！？：」]*[傳箋][^「」>○，。！？：<]*\")\n",
    "query2 = re.compile(r\"[^○\\]\\n]*○[^○\\n]*(鄭[^○\\n]*毛|毛[^○\\n]*鄭)[^○\\n]+\")\n",
    "for r in shu:\n",
    "    listQ = re.findall(query2, str(r.string))\n",
    "    for i in listQ:\n",
    "        result += i+\"\\n\"\n",
    "with open(r\"G:\\小組雲端硬碟\\儒家經典注疏\\十三經注疏\\毛鄭.txt\", \"w\", encoding=\"utf8\") as outfile:\n",
    "    outfile.write(result)\n",
    "print(len(shu))"
   ]
  },
  {
   "cell_type": "code",
   "execution_count": null,
   "metadata": {
    "collapsed": true
   },
   "outputs": [],
   "source": [
    "from bs4 import BeautifulSoup\n",
    "soupA = BeautifulSoup(\"<div><g n='5'>dkdk</g></div>\", \"xml\")\n",
    "soupB = BeautifulSoup(\"<div><g/></div>\", \"xml\")\n",
    "g = soupB.g\n",
    "g = soupA.g\n",
    "soupB.g.string=soupA.g.string\n",
    "soupB.g[\"n\"]=5\n",
    "print(soupB.g)\n",
    "print(soupB)\n",
    "print(g)"
   ]
  },
  {
   "cell_type": "code",
   "execution_count": null,
   "metadata": {
    "collapsed": true
   },
   "outputs": [],
   "source": [
    "from bs4 import BeautifulSoup\n",
    "import re\n",
    "with open(r\"G:\\小組雲端硬碟\\儒家經典注疏\\十三經注疏\\網站檔案\\KR1c1001.xml\", \"r\", encoding=\"utf8\") as infile:\n",
    "    soupA=BeautifulSoup(infile.read(), \"xml\")\n",
    "with open(r\"G:\\小組雲端硬碟\\儒家經典注疏\\十三經注疏\\漢子電子文獻-刪校勘記 - 複製\\毛詩.xml\", \"r\", encoding=\"utf8\") as infile:\n",
    "    soupB=BeautifulSoup(infile.read(), \"xml\")\n",
    "g_A = soupA.find_all(\"g\")\n",
    "img_B = soupB.find_all(\"img\")\n",
    "for i in range(len(g_A)):\n",
    "    g_A[i][\"n\"]=img_B[i][\"alt\"]\n",
    "with open(r\"G:\\小組雲端硬碟\\儒家經典注疏\\十三經注疏\\網站檔案\\KR1c1001_1.xml\", \"w\", \n",
    "              encoding=\"utf8\") as outfile:\n",
    "    outfile.write(soupA.prettify())\n",
    "print(\"We're done.\")"
   ]
  },
  {
   "cell_type": "code",
   "execution_count": 1,
   "metadata": {},
   "outputs": [
    {
     "name": "stdout",
     "output_type": "stream",
     "text": [
      "1366\n"
     ]
    }
   ],
   "source": [
    "from bs4 import BeautifulSoup\n",
    "import re\n",
    "with open(r\"G:\\小組雲端硬碟\\儒家經典注疏\\十三經注疏\\網站檔案\\KR1c1001.xml\", \"r\", encoding=\"utf8\") as infile:\n",
    "    soup=BeautifulSoup(infile.read(), \"xml\")\n",
    "shu = soup.find_all(\"p\", n=\"疏\")\n",
    "result = \"\"\n",
    "query = re.compile(r\"正義曰[^<]*(毛[^<]*鄭|鄭[^<]*毛)\")\n",
    "for r in shu:\n",
    "    for seg in r.find_all(\"seg\"):\n",
    "        if re.search(query, str(seg.string)) is not None:\n",
    "            if seg.parent.parent.parent.head is not None:\n",
    "                result += str(seg.parent.parent.parent.head.string)+\"\\t\"+seg.string+\"\\n\"\n",
    "            else:\n",
    "                pass\n",
    "with open(r\"G:\\小組雲端硬碟\\儒家經典注疏\\十三經注疏\\毛鄭.txt\", \"w\", encoding=\"utf8\") as outfile:\n",
    "    outfile.write(result)\n",
    "print(len(shu))"
   ]
  },
  {
   "cell_type": "code",
   "execution_count": null,
   "metadata": {},
   "outputs": [],
   "source": [
    "import re\n",
    "with open(r\"G:\\小組雲端硬碟\\儒家經典注疏\\十三經注疏\\網站檔案\\KR1c1001.xml\", \"r\", encoding=\"utf8\") as infile:\n",
    "    file1=infile.read()\n",
    "query = re.compile(r\"《[^《》]{1,7}?》\")\n",
    "def addTitle(found):\n",
    "    if found.group(0)[0]==\"《\":\n",
    "        return found.group(0)+\"》\"\n",
    "    else:\n",
    "        return \"《\"+found.group(0)\n",
    "for title in set(re.findall(query, file1)):\n",
    "    print(title)\n",
    "    file1 = re.sub(r\"((?<!《)\"+title[1:]+r\"|\"+title[:-1]+r\"(?!》))\", addTitle, file1)\n",
    "with open(r\"G:\\小組雲端硬碟\\儒家經典注疏\\十三經注疏\\addTitle.txt\", \"w\", encoding=\"utf8\") as outfile:\n",
    "    outfile.write(file1)\n",
    "print(len(set(re.findall(query, file1))))"
   ]
  },
  {
   "cell_type": "code",
   "execution_count": null,
   "metadata": {
    "collapsed": true
   },
   "outputs": [],
   "source": []
  }
 ],
 "metadata": {
  "kernelspec": {
   "display_name": "Python 3",
   "language": "python",
   "name": "python3"
  },
  "language_info": {
   "codemirror_mode": {
    "name": "ipython",
    "version": 3
   },
   "file_extension": ".py",
   "mimetype": "text/x-python",
   "name": "python",
   "nbconvert_exporter": "python",
   "pygments_lexer": "ipython3",
   "version": "3.6.3"
  }
 },
 "nbformat": 4,
 "nbformat_minor": 2
}
