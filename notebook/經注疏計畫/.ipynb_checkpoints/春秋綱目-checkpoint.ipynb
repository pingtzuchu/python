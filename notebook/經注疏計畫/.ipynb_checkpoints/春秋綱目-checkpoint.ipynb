{
 "cells": [
  {
   "cell_type": "code",
   "execution_count": null,
   "metadata": {},
   "outputs": [
    {
     "name": "stdout",
     "output_type": "stream",
     "text": [
      "<div style=\"text-indent:0em;padding-left:0em;\">\n",
      "    傳惠公元妃孟子。孟子卒。繼室以聲子。生隱公。宋武公生仲子。仲子生而有文在其手。曰為魯夫人。故仲子歸于我。生桓公而惠公薨。是以隱公立而奉之。\n",
      "   </div>\n"
     ]
    }
   ],
   "source": [
    "from bs4 import BeautifulSoup\n",
    "with open(r\"G:\\小組雲端硬碟\\儒家經典注疏\\十三經注疏\\斷句十三經經文\\春秋左傳.xml\", 'r', encoding='utf8') as infile:\n",
    "    soup = BeautifulSoup(infile.read(), \"xml\")\n",
    "    for gong in soup.div.contents:\n",
    "        \n",
    "    input()\n",
    "    for div in soup.div.div.div.find_next_siblings():\n",
    "        print(str(div.head.string))\n",
    "        if str(div.head.string)[0] == \"傳\":\n",
    "            div.decompose()\n",
    "with open(r\"G:\\小組雲端硬碟\\儒家經典注疏\\十三經注疏\\春秋綱目.xml\", 'w', encoding='utf8') as outfile:\n",
    "    outfile.write(soup.prettify())\n",
    "print(\"We're done.\")"
   ]
  },
  {
   "cell_type": "code",
   "execution_count": null,
   "metadata": {
    "collapsed": true
   },
   "outputs": [],
   "source": []
  }
 ],
 "metadata": {
  "kernelspec": {
   "display_name": "Python 3",
   "language": "python",
   "name": "python3"
  },
  "language_info": {
   "codemirror_mode": {
    "name": "ipython",
    "version": 3
   },
   "file_extension": ".py",
   "mimetype": "text/x-python",
   "name": "python",
   "nbconvert_exporter": "python",
   "pygments_lexer": "ipython3",
   "version": "3.6.3"
  }
 },
 "nbformat": 4,
 "nbformat_minor": 2
}
