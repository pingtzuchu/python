{
 "cells": [
  {
   "cell_type": "markdown",
   "metadata": {},
   "source": [
    "1. 多文本\n",
    "2. 把簡體版先繁體化\n",
    "3. 去掉所有的標記\n",
    "4. 進行比對\n",
    "5. 只取insert"
   ]
  },
  {
   "cell_type": "code",
   "execution_count": null,
   "metadata": {
    "collapsed": true
   },
   "outputs": [],
   "source": [
    "from difflib import SequenceMatcher\n",
    "for i in range(1, 4):\n",
    "    with open(r\"G:\\小組雲端硬碟\\儒家經典注疏\\十三經注疏\\temp\\temp1\"+str(i).strip(), \"r\", encoding=\"utf8\") as infile:\n",
    "        strA = infile.read()\n",
    "    with open(r\"G:\\小組雲端硬碟\\儒家經典注疏\\十三經注疏\\temp\\temp2\"+str(i).strip(), \"r\", encoding=\"utf8\") as infile:\n",
    "        strB = infile.read()\n",
    "    puntList=\"《》：，；「」。○、？·『』！（）\"\n",
    "    result=\"\"\n",
    "    start_i=0\n",
    "    s = SequenceMatcher(None, strA, strB)\n",
    "    for tag, i1, i2, j1, j2 in s.get_opcodes():\n",
    "        tempPunt=\"\"\n",
    "        if tag == \"insert\":\n",
    "            try:\n",
    "                if strB[j1:j2].strip().find(\"<\") > -1:\n",
    "                    temp=strB[j1:j2].strip()[:strB[j1:j2].strip().find(\"<\")]\n",
    "                else:\n",
    "                    temp=strB[j1:j2].strip()\n",
    "                if len(temp) >0:\n",
    "                    result += strA[start_i:i1]+temp\n",
    "                    start_i = i1\n",
    "            except:\n",
    "                pass\n",
    "    with open(r\"G:\\小組雲端硬碟\\儒家經典注疏\\十三經注疏\\temp\\temp3\"+str(i).strip(), \"w\", encoding=\"utf8\") as outfile:\n",
    "        outfile.write(result)\n",
    "    print(str(i))\n",
    "print(\"We're done.\")\n",
    "        "
   ]
  },
  {
   "cell_type": "markdown",
   "metadata": {},
   "source": [
    "單文本"
   ]
  },
  {
   "cell_type": "code",
   "execution_count": null,
   "metadata": {
    "collapsed": true
   },
   "outputs": [],
   "source": [
    "from difflib import SequenceMatcher\n",
    "with open(r\"G:\\小組雲端硬碟\\儒家經典注疏\\十三經注疏\\漢子電子文獻-刪校勘記\\公羊 - Copy.xml\", \"r\", encoding=\"utf8\") as infile:\n",
    "    strA = infile.read()\n",
    "with open(r\"G:\\小組雲端硬碟\\儒家經典注疏\\十三經注疏\\網路簡體版\\春秋公羊传注疏-繁體.html\", \"r\", encoding=\"utf8\") as infile:\n",
    "    strB = infile.read()\n",
    "result=\"\"\n",
    "start_i=0\n",
    "s = SequenceMatcher(None, strA, strB)\n",
    "for tag, i1, i2, j1, j2 in s.get_opcodes():\n",
    "    tempPunt=\"\"\n",
    "    if tag == \"insert\":\n",
    "        if len(strB[j1:j2].strip()) >0:\n",
    "            result += strA[start_i:i1]+temp\n",
    "            start_i = i1\n",
    "with open(r\"G:\\小組雲端硬碟\\儒家經典注疏\\十三經注疏\\temp31\", \"w\", encoding=\"utf8\") as outfile:\n",
    "    outfile.write(result)\n",
    "print(\"We're done.\")\n",
    "        "
   ]
  },
  {
   "cell_type": "code",
   "execution_count": null,
   "metadata": {
    "collapsed": true
   },
   "outputs": [],
   "source": []
  }
 ],
 "metadata": {
  "anaconda-cloud": {},
  "kernelspec": {
   "display_name": "Python 3",
   "language": "python",
   "name": "python3"
  },
  "language_info": {
   "codemirror_mode": {
    "name": "ipython",
    "version": 3
   },
   "file_extension": ".py",
   "mimetype": "text/x-python",
   "name": "python",
   "nbconvert_exporter": "python",
   "pygments_lexer": "ipython3",
   "version": "3.6.3"
  }
 },
 "nbformat": 4,
 "nbformat_minor": 1
}
