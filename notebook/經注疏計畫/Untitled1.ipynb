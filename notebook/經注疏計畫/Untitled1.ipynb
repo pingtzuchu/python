{
 "cells": [
  {
   "cell_type": "code",
   "execution_count": 1,
   "metadata": {},
   "outputs": [
    {
     "name": "stdout",
     "output_type": "stream",
     "text": [
      "○道音導藪素口反雎音綏宋公為右盂鄭伯為左盂于田獵陳名○盂音于陳直覲反期思公復遂為右司馬復遂楚期思邑公今弋陽期思縣○弋以職反子朱及文之無畏為左司馬將獵張兩甄故置二左司馬然則右司馬一人當中央○甄吉然反     [疏]注將獵至中央○正義曰宋公為右盂無畏為左司馬而誅宋公之僕自謂當官而行明無畏當右子朱當左是其張兩甄故置二左司馬使各掌一甄自然右司馬一人當中央也     命夙駕載燧燧取火者○命眉病反燧音遂本又作㸂宋公違命不夙駕載燧無畏抶其僕以徇或謂子舟曰國君不可戮也子舟曰當官而行何彊之有子舟無畏字○抶恥乙反徇似俊反舟音州詩曰剛亦不吐柔亦不茹詩大雅美仲山甫不辟彊禦○茹如呂反毋縱詭隨以謹罔極詩大雅詭人隨人無正心者謹猶慎也罔無也極中也○詭九委反     [疏]毋縱至罔極○正義曰無從此詭人隨人無正心者以謹勑彼無中正之人言小罪尚不赦則大罪不敢為也     是亦非辟彊也敢愛死以亂官乎為宣十四年宋人殺子舟張本○厥貉之會麇子逃歸為明年楚子伐麇傳\n",
      "○道音導。藪，素口反。雎音綏。    宋公為右盂，鄭伯為左盂。于，田獵陳名。    <seg>     ○盂音于。陳，直覲反。    </seg>    期思公複遂為右司馬，    <seg>     複遂，楚期思邑公。今弋陽期思縣。○弋，以職反。    </seg>    子朱及文之無畏為左司馬。    <seg>     將獵，張兩甄，故置二左司馬，然則右司馬一人當中央。○甄，吉然反。    </seg>   </p>   <p>    [疏]注「將獵」至「中央」。○正義曰：宋公為右盂，無畏為左司馬，而誅宋公之仆，自謂「當官而行」，明無畏當右，子朱當左，是其張兩甄，故置二左司馬，使各掌一甄，自然右司馬一人當中央也。   </p>   <p>    命夙駕載燧，    <seg>     燧，取筐者。○命，眉病反。燧音遂，本又作{遂火}。    </seg>    宋公違命，    <seg>     不夙駕載燧。    </seg>    無畏扌失其仆以徇。或謂子舟曰：「國君不可戮也」。子舟曰：「當官而行，何︹之有？    <seg>     子舟，無畏字。○扌失，耻乙反。徇，似俊反。舟音州。    </seg>    《詩》曰：『剛亦不吐，柔亦不茹。』    <seg>     《詩．大雅》。美仲山甫不闢︹禦。○茹，如吕反。    </seg>    『毋縱詭隨，以謹罔極。』    <seg>     《詩．大雅》。詭人、隨人，無正心者。謹猶慎也。罔，無也。極，中也。○詭，九委反。    </seg>   </p>   <p>    [疏]「毋縱」至「罔極」。○正義曰：無從此詭人隨人無正心者，以謹敕彼無中正之人。言小罪尚不赦，則大罪不敢為也。   </p>   <p>    是亦非闢︹也。敢愛死以亂官乎？」    <seg>     為宣十四年宋人殺子舟張本。    </seg>   </p>   <p>    厥貉之會，麇子逃歸。    <seg>     為明年楚子伐麇傳。</seg>    </seg>   </p>\n",
      "○道音導。藪，素口反。雎音綏。宋公為右盂，鄭伯為左盂。于，田獵陳名。    <seg>○盂音于。陳，直覲反。    </seg>期思公復遂為右司馬，復遂，楚期思邑公。今弋陽期思縣。○弋，以職反。    </seg>子朱及文之無畏為左司馬。    <seg>將獵，張兩甄，故置二左司馬，然則右司馬一人當中央。○甄，吉然反。     [疏]注「將獵」至「中央」。○正義曰：宋公為右盂，無畏為左司馬，而誅宋公之僕，自謂「當官而行」，明無畏當右，子朱當左，是其張兩甄，故置二左司馬，使各掌一甄，自然右司馬一人當中央也。     命夙駕載燧，    <seg>燧，取火者。○命，眉病反。燧音遂，本又作㸂。宋公違命，    <seg>不夙駕載燧。    </seg>無畏抶其僕以徇。或謂子舟曰：「國君不可戮也」。子舟曰：「當官而行，何彊之有？    <seg>子舟，無畏字。○○抶，恥乙反。徇，似俊反。舟音州。    </seg>    《詩》曰：『剛亦不吐，柔亦不茹。』    <seg>     《詩．大雅》。美仲山甫不辟彊禦。○茹，如呂反。    </seg>    『毋縱詭隨，以謹罔極。』    <seg>     《詩．大雅》。詭人、隨人，無正心者。謹猶慎也。罔，無也。極，中也。○詭，九委反。     [疏]「毋縱」至「罔極」。○正義曰：無從此詭人隨人無正心者，以謹勑彼無中正之人。言小罪尚不赦，則大罪不敢為也。     是亦非辟彊也。敢愛死以亂官乎？」    <seg>為宣十四年宋人殺子舟張本。○厥貉之會，麇子逃歸。    <seg>為明年楚子伐麇傳。</seg>    </seg>   </p>\n",
      "1531291489.2596076\n",
      "2018-07-11 14:45:53.491533\n",
      "64.23192548751831\n"
     ]
    }
   ],
   "source": [
    "import time, datetime, re\n",
    "from bs4 import BeautifulSoup\n",
    "from difflib import SequenceMatcher\n",
    "start_time=time.time()\n",
    "def compareTwoStrings(strA, strB):\n",
    "    result=\"\"\n",
    "    junkLetters=\"\"\"\\s□abcdefghijklmnopqrstuvwxyzABCDEFGHIJKL\n",
    "    MNOPQRSTUVWXYZ0123456789<>:'`;.?\"=-,\\/《》「」『』（），、。．：？！－…；·：【】○\"\"\"\n",
    "    punc =\"《》「」『』（），、。．：？！－…；·：【】○\"\n",
    "    puncReg =re.compile(r\"([《》「」『』（），、。．：？！－…；·：【】○]+)\")\n",
    "    charReg =re.compile(r\"([\\u4E00-\\u9FFF]+)\")\n",
    "    start_i=0\n",
    "    s = SequenceMatcher(lambda x: x in junkLetters, strA, strB)\n",
    "    for tag, i1, i2, j1, j2 in s.get_opcodes():\n",
    "        repStr = strB[j1:j2].strip()\n",
    "        if (tag==\"insert\"):\n",
    "            result += re.sub(charReg, \"<seg n='insert'>\\g<0></seg>\",\n",
    "                             repStr)\n",
    "        elif (tag==\"replace\") and len(repStr) > 0:\n",
    "            repStrGroup=re.findall(r\"[《》「」『』，、。．：？！－…；·：【】○]+|[\\u4E00-\\u9FFF]+\", repStr)\n",
    "            if len(repStrGroup)>3:\n",
    "                repStrHan=re.findall(r\"[\\u4E00-\\u9FFF]+\", repStr)\n",
    "                if len(\"\".join(repStrHan))==i2-i1:\n",
    "                    start_i=i1\n",
    "                    group=0\n",
    "                    for str in repStrGroup:\n",
    "                        if str[0] in punc:\n",
    "                            result += str\n",
    "                        else:\n",
    "                            result += strA[start_i:start_i+len(repStrGroup[group])]\n",
    "                            start_i += len(repStrGroup[group])\n",
    "                        group += 1\n",
    "                else:\n",
    "                    result += strA[i1:i2]+\"<seg n='check'>\"+repStr\\\n",
    "                    +\"</seg>\"\n",
    "            elif len(repStrGroup)==3:\n",
    "                if repStrGroup[0][0] in punc:\n",
    "                    result += repStrGroup[0]+strA[i1:i2]\\\n",
    "                    +repStrGroup[2]\n",
    "                else:\n",
    "                    try: \n",
    "                        result += strA[i1:i1+1]+repStrGroup[1]\\\n",
    "                        +strA[i1+1:i2]\n",
    "                    except:\n",
    "                        result += strA[i1:i2]+\"<seg n='check'>\"\\\n",
    "                        +repStr+\"</seg>\"\n",
    "            elif len(repStrGroup)==2:\n",
    "                if repStrGroup[0][0] in punc and \\\n",
    "                repStrGroup[1][0] in punc:\n",
    "                    result += repStrGroup[0]+strA[i1:i2]\\\n",
    "                    +repStrGroup[1]\n",
    "                elif repStrGroup[0][0] in punc:\n",
    "                    result += repStrGroup[0]+strA[i1:i2]\n",
    "                elif repStrGroup[1][0] in punc:\n",
    "                    result += strA[i1:i2]+repStrGroup[1]\n",
    "                else:\n",
    "                    result += strA[i1:i2]\n",
    "            elif len(repStrGroup)==1:\n",
    "                repStr=repStrGroup[0]\n",
    "                if repStr[0] in punc:\n",
    "                    match = re.search(\"[「《〈]\", repStr)\n",
    "                    if match:\n",
    "                        result += repStr[:match.start(0)]+\\\n",
    "                        strA[i1:i2]+repStr[match.start(0):]\n",
    "                    else:\n",
    "                        result += repStr+strA[i1:i2]\n",
    "                else:\n",
    "                    result += strA[i1:i2]\n",
    "            else:\n",
    "                result += strA[i1:i2]\n",
    "        else:\n",
    "            result += strA[i1:i2]\n",
    "    return result\n",
    "strA=input()\n",
    "strB=input()\n",
    "print(compareTwoStrings(strA, strB))\n",
    "print(start_time)\n",
    "print (datetime.datetime.now())\n",
    "print(time.time()-start_time)"
   ]
  },
  {
   "cell_type": "code",
   "execution_count": 2,
   "metadata": {},
   "outputs": [
    {
     "name": "stdout",
     "output_type": "stream",
     "text": [
      "replace   a[0:19] --> b[0:1] '<p rend=\"0em;\">\\n   ' --> '【'\n",
      "equal     a[19:20] --> b[1:2]      '經' --> '經'\n",
      "insert    a[20:20] --> b[2:3]       '' --> '】'\n",
      "equal     a[20:23] --> b[3:6]    '二年春' --> '二年春'\n",
      "insert    a[23:23] --> b[6:7]       '' --> '，'\n",
      "equal     a[23:28] --> b[7:12]  '公會戎于濳' --> '公會戎于濳'\n",
      "insert    a[28:28] --> b[12:13]       '' --> '。'\n",
      "equal     a[28:29] --> b[13:14]     '\\n' --> '\\n'\n",
      "delete    a[29:38] --> b[14:14] '   <seg>\\n' --> ''\n"
     ]
    }
   ],
   "source": [
    "import time, datetime, re\n",
    "from bs4 import BeautifulSoup\n",
    "from difflib import SequenceMatcher\n",
    "start_time=time.time()\n",
    "junkLetters=\"\"\"\\s□abcdefghijklmnopqrstuvwxyzABCDEFGHIJKL\n",
    "MNOPQRSTUVWXYZ0123456789<>:'`;.?\"=-,\\/《》「」『』（），、。．：？！－…；·：【】○\"\"\"\n",
    "a = \"\"\"<p rend=\"0em;\">\n",
    "   經二年春公會戎于濳\n",
    "   <seg>\n",
    "\"\"\"\n",
    "b = \"\"\"【經】二年春，公會戎于濳。\n",
    "\"\"\"\n",
    "s = SequenceMatcher(None, a, b, autojunk=True)\n",
    "for tag, i1, i2, j1, j2 in s.get_opcodes():\n",
    "    print('{:7}   a[{}:{}] --> b[{}:{}] {!r:>8} --> {!r}'.format(\n",
    "        tag, i1, i2, j1, j2, a[i1:i2], b[j1:j2]))"
   ]
  },
  {
   "cell_type": "code",
   "execution_count": null,
   "metadata": {},
   "outputs": [],
   "source": []
  },
  {
   "cell_type": "code",
   "execution_count": null,
   "metadata": {},
   "outputs": [],
   "source": []
  }
 ],
 "metadata": {
  "kernelspec": {
   "display_name": "Python 3",
   "language": "python",
   "name": "python3"
  },
  "language_info": {
   "codemirror_mode": {
    "name": "ipython",
    "version": 3
   },
   "file_extension": ".py",
   "mimetype": "text/x-python",
   "name": "python",
   "nbconvert_exporter": "python",
   "pygments_lexer": "ipython3",
   "version": "3.6.5"
  }
 },
 "nbformat": 4,
 "nbformat_minor": 2
}
