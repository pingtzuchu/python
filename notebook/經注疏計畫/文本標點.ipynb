{
 "cells": [
  {
   "cell_type": "code",
   "execution_count": null,
   "metadata": {},
   "outputs": [],
   "source": [
    "import time, datetime, re\n",
    "from difflib import SequenceMatcher\n",
    "start_time=time.time()\n",
    "with open(r\"G:\\小組雲端硬碟\\儒家經典注疏\\十三經注疏\\網路簡體版\\毛诗正义-t.xml\", \"r\", encoding=\"utf8\") as infile:\n",
    "    fileA = infile.read()\n",
    "with open(r\"G:\\小組雲端硬碟\\儒家經典注疏\\十三經注疏\\漢子電子文獻-刪校勘記\\毛詩 - 複製.xml\", \"r\", encoding=\"utf8\") as infile:\n",
    "    fileB = infile.read()\n",
    "finalResult = \"\"\n",
    "print(\"done with cell1\")\n"
   ]
  },
  {
   "cell_type": "code",
   "execution_count": null,
   "metadata": {},
   "outputs": [],
   "source": [
    "import time, datetime, re\n",
    "from difflib import SequenceMatcher\n",
    "start_time=time.time()\n",
    "with open(r\"G:\\小組雲端硬碟\\儒家經典注疏\\十三經注疏\\網路簡體版\\毛诗正义-t.xml\", \"r\", encoding=\"utf8\") as infile:\n",
    "    fileA = infile.read()\n",
    "with open(r\"G:\\小組雲端硬碟\\儒家經典注疏\\十三經注疏\\漢子電子文獻-刪校勘記\\毛詩 - 複製.xml\", \"r\", encoding=\"utf8\") as infile:\n",
    "    fileB = infile.read()\n",
    "finalResult = \"\"\n",
    "print(\"done with cell1\")\n",
    "def compareTwoString(strA, strB):\n",
    "    result=\"\"\n",
    "    junkLetters=\"\"\" \\t\\n\\r\\fabcdefghijklmnopqrstuvwxyzABCDEFGHIJKLMNOPQRSTUVWXYZ0123456789<>:'`;.?\"=-,\n",
    "‘’‚“”„•‧․‥…、。〈〉[]《》「」『』（），、。．：？！－…；·：【】/\n",
    "\"\"\"\n",
    "    start_i=0\n",
    "    s = SequenceMatcher(lambda x: x in junkLetters, strA, strB)\n",
    "    for tag, i1, i2, j1, j2 in s.get_opcodes():\n",
    "        repStr = strB[j1:j2].strip()\n",
    "        if (tag == \"replace\") and len(repStr) > 0:\n",
    "            result += strA[start_i:i1]\n",
    "            index = 0\n",
    "            if \"<g\" in strB[j1:j2]:\n",
    "                result += strB[j1:j2]\n",
    "            else:\n",
    "                for c in strA[i1:i2]:\n",
    "                    if c in junkLetters:\n",
    "                        result+= c\n",
    "                    else:\n",
    "                        try:\n",
    "                            result += strB[j1:j2].strip()[index]\n",
    "                            index += 1\n",
    "                        except:\n",
    "                            pass\n",
    "                try:\n",
    "                    result += strB[j1:j2].strip()[index:]\n",
    "                except:\n",
    "                    pass\n",
    "    return result\n",
    "print(\"done with cell2\")\n",
    "for i in range(len(fileA.split(\"＃＃＄＄\"))):\n",
    "    finalResult += compareTwoString(fileA.split(\"＃＃＄＄\")[i], fileB.split(\"＃＃＄＄\")[i])\n",
    "with open(r\"G:\\小組雲端硬碟\\儒家經典注疏\\十三經注疏\\temp\\finalResult.xml\", \"w\", encoding=\"utf8\") as outfile:\n",
    "    outfile.write(finalResult)\n",
    "\n",
    "print (datetime.datetime.now())\n",
    "print (time.time()-start_time)"
   ]
  },
  {
   "cell_type": "code",
   "execution_count": null,
   "metadata": {},
   "outputs": [],
   "source": [
    "print(compareTwoString(\"dkkdls iwkkd dl;sk \", \"dkksls ddmm dkdkls\"))\n",
    "print(\"done with cell3\")"
   ]
  },
  {
   "cell_type": "code",
   "execution_count": null,
   "metadata": {},
   "outputs": [],
   "source": [
    "for i in range(len(fileA.split(\"＃＃＄＄\"))):\n",
    "    print(len(fileA.split(\"＃＃＄＄\")))\n",
    "    finalResult += compareTwoString(fileA.split(\"＃＃＄＄\")[i], fileB.split(\"＃＃＄＄\")[i])\n",
    "with open(r\"G:\\小組雲端硬碟\\儒家經典注疏\\十三經注疏\\temp\\finalResult.xml\", \"w\", encoding=\"utf8\") as outfile:\n",
    "    outfile.write(finalResult)\n",
    "\n",
    "print (datetime.datetime.now())\n",
    "print(time.time()-start_time)"
   ]
  },
  {
   "cell_type": "code",
   "execution_count": null,
   "metadata": {
    "collapsed": true
   },
   "outputs": [],
   "source": []
  }
 ],
 "metadata": {
  "kernelspec": {
   "display_name": "Python 3",
   "language": "python",
   "name": "python3"
  },
  "language_info": {
   "codemirror_mode": {
    "name": "ipython",
    "version": 3
   },
   "file_extension": ".py",
   "mimetype": "text/x-python",
   "name": "python",
   "nbconvert_exporter": "python",
   "pygments_lexer": "ipython3",
   "version": "3.6.3"
  }
 },
 "nbformat": 4,
 "nbformat_minor": 2
}
