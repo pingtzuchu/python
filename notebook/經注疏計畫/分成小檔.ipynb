{
 "cells": [
  {
   "cell_type": "code",
   "execution_count": 3,
   "metadata": {},
   "outputs": [
    {
     "name": "stdout",
     "output_type": "stream",
     "text": [
      "<xi:include href='0000.xml' xmlns:xi='http://www.w3.org/2001/XInclude'/>\n",
      "<xi:include href='0001.xml' xmlns:xi='http://www.w3.org/2001/XInclude'/>\n",
      "<xi:include href='0002.xml' xmlns:xi='http://www.w3.org/2001/XInclude'/>\n",
      "<xi:include href='0003.xml' xmlns:xi='http://www.w3.org/2001/XInclude'/>\n",
      "<xi:include href='0004.xml' xmlns:xi='http://www.w3.org/2001/XInclude'/>\n",
      "<xi:include href='0005.xml' xmlns:xi='http://www.w3.org/2001/XInclude'/>\n",
      "<xi:include href='0006.xml' xmlns:xi='http://www.w3.org/2001/XInclude'/>\n",
      "<xi:include href='0007.xml' xmlns:xi='http://www.w3.org/2001/XInclude'/>\n",
      "<xi:include href='0008.xml' xmlns:xi='http://www.w3.org/2001/XInclude'/>\n",
      "<xi:include href='0009.xml' xmlns:xi='http://www.w3.org/2001/XInclude'/>\n",
      "<xi:include href='0010.xml' xmlns:xi='http://www.w3.org/2001/XInclude'/>\n",
      "<xi:include href='0011.xml' xmlns:xi='http://www.w3.org/2001/XInclude'/>\n",
      "<xi:include href='0012.xml' xmlns:xi='http://www.w3.org/2001/XInclude'/>\n",
      "<xi:include href='0013.xml' xmlns:xi='http://www.w3.org/2001/XInclude'/>\n",
      "<xi:include href='0014.xml' xmlns:xi='http://www.w3.org/2001/XInclude'/>\n",
      "<xi:include href='0015.xml' xmlns:xi='http://www.w3.org/2001/XInclude'/>\n",
      "<xi:include href='0016.xml' xmlns:xi='http://www.w3.org/2001/XInclude'/>\n",
      "<xi:include href='0017.xml' xmlns:xi='http://www.w3.org/2001/XInclude'/>\n",
      "<xi:include href='0018.xml' xmlns:xi='http://www.w3.org/2001/XInclude'/>\n",
      "<xi:include href='0019.xml' xmlns:xi='http://www.w3.org/2001/XInclude'/>\n",
      "<xi:include href='0020.xml' xmlns:xi='http://www.w3.org/2001/XInclude'/>\n",
      "<xi:include href='0021.xml' xmlns:xi='http://www.w3.org/2001/XInclude'/>\n",
      "<xi:include href='0022.xml' xmlns:xi='http://www.w3.org/2001/XInclude'/>\n",
      "<xi:include href='0023.xml' xmlns:xi='http://www.w3.org/2001/XInclude'/>\n",
      "<xi:include href='0024.xml' xmlns:xi='http://www.w3.org/2001/XInclude'/>\n",
      "<xi:include href='0025.xml' xmlns:xi='http://www.w3.org/2001/XInclude'/>\n",
      "<xi:include href='0026.xml' xmlns:xi='http://www.w3.org/2001/XInclude'/>\n",
      "<xi:include href='0027.xml' xmlns:xi='http://www.w3.org/2001/XInclude'/>\n",
      "<xi:include href='0028.xml' xmlns:xi='http://www.w3.org/2001/XInclude'/>\n",
      "<xi:include href='0029.xml' xmlns:xi='http://www.w3.org/2001/XInclude'/>\n",
      "<xi:include href='0030.xml' xmlns:xi='http://www.w3.org/2001/XInclude'/>\n",
      "<xi:include href='0031.xml' xmlns:xi='http://www.w3.org/2001/XInclude'/>\n",
      "<xi:include href='0032.xml' xmlns:xi='http://www.w3.org/2001/XInclude'/>\n",
      "<xi:include href='0033.xml' xmlns:xi='http://www.w3.org/2001/XInclude'/>\n",
      "<xi:include href='0034.xml' xmlns:xi='http://www.w3.org/2001/XInclude'/>\n",
      "<xi:include href='0035.xml' xmlns:xi='http://www.w3.org/2001/XInclude'/>\n",
      "<xi:include href='0036.xml' xmlns:xi='http://www.w3.org/2001/XInclude'/>\n",
      "<xi:include href='0037.xml' xmlns:xi='http://www.w3.org/2001/XInclude'/>\n",
      "<xi:include href='0038.xml' xmlns:xi='http://www.w3.org/2001/XInclude'/>\n",
      "<xi:include href='0039.xml' xmlns:xi='http://www.w3.org/2001/XInclude'/>\n",
      "<xi:include href='0040.xml' xmlns:xi='http://www.w3.org/2001/XInclude'/>\n",
      "\n"
     ]
    }
   ],
   "source": [
    "from bs4 import BeautifulSoup\n",
    "targetDir = \"G:\\小組雲端硬碟\\儒家經典注疏\\十三經注疏\\XMLProject01\\KR1c1000\"\n",
    "newFile = \"\"\n",
    "fileNum = 0\n",
    "with open(r\"G:\\小組雲端硬碟\\儒家經典注疏\\十三經注疏\\網路簡體版\\毛诗正义.xml\", \n",
    "          \"r\", encoding=\"utf8\") as inFile: \n",
    "    soup = BeautifulSoup(inFile.read(), \"xml\")\n",
    "    firstDiv = soup.div\n",
    "    fileNumString = str(fileNum).strip()\n",
    "    with open(targetDir+\"\\\\\"+\"0\"*(4-len(fileNumString))+fileNumString+\n",
    "              \".xml\", \"w\", encoding=\"utf8\") as outFile:\n",
    "        outFile.write(firstDiv.prettify())\n",
    "        fileNum += 1\n",
    "        newFile += \"<xi:include href='\" + \"0\"*(4-len(fileNumString)) + fileNumString + \".xml' \" + \"xmlns:xi='http://www.w3.org/2001/XInclude'/>\\n\"\n",
    "    for div in firstDiv.find_next_siblings(\"div\"):\n",
    "        fileNumString = str(fileNum).strip()\n",
    "        with open(targetDir+\"\\\\\"+\"0\"*(4-len(fileNumString))+fileNumString+\n",
    "                  \".xml\", \"w\", encoding=\"utf8\") as outFile:\n",
    "            outFile.write(div.prettify())\n",
    "            fileNum += 1\n",
    "            newFile += \"<xi:include href='\" + \"0\"*(4-len(fileNumString)) + fileNumString + \".xml' \" + \"xmlns:xi='http://www.w3.org/2001/XInclude'/>\\n\"\n",
    "print(newFile)\n",
    "        \n",
    "        \n"
   ]
  },
  {
   "cell_type": "code",
   "execution_count": null,
   "metadata": {
    "collapsed": true
   },
   "outputs": [],
   "source": []
  }
 ],
 "metadata": {
  "kernelspec": {
   "display_name": "Python 3",
   "language": "python",
   "name": "python3"
  },
  "language_info": {
   "codemirror_mode": {
    "name": "ipython",
    "version": 3
   },
   "file_extension": ".py",
   "mimetype": "text/x-python",
   "name": "python",
   "nbconvert_exporter": "python",
   "pygments_lexer": "ipython3",
   "version": "3.6.3"
  }
 },
 "nbformat": 4,
 "nbformat_minor": 2
}
