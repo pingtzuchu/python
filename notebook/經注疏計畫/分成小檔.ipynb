{
 "cells": [
  {
   "cell_type": "code",
   "execution_count": null,
   "metadata": {},
   "outputs": [],
   "source": [
    "from bs4 import BeautifulSoup\n",
    "targetDir = \"G:\\小組雲端硬碟\\儒家經典注疏\\十三經注疏\\XMLProject01\\KR1c\\KR1c2000\"\n",
    "newFile = \"\"\n",
    "fileNum = 1\n",
    "with open(r\"G:\\小組雲端硬碟\\儒家經典注疏\\十三經注疏\\XMLProject01\\KR1c\\KR1c0004.xml\", \n",
    "          \"r\", encoding=\"utf8\") as inFile: \n",
    "    soup = BeautifulSoup(inFile.read(), \"xml\")\n",
    "    firstDiv = soup.div\n",
    "    fileNumString = str(fileNum).strip()\n",
    "    with open(targetDir+\"\\\\\"+\"0\"*(4-len(fileNumString))+fileNumString+\n",
    "              \".xml\", \"w\", encoding=\"utf8\") as outFile:\n",
    "        outFile.write(firstDiv.prettify())\n",
    "        fileNum += 1\n",
    "        newFile += \"<xi:include href='\" + \"0\"*(4-len(fileNumString)) + fileNumString + \".xml' \" + \"xmlns:xi='http://www.w3.org/2001/XInclude'/>\\n\"\n",
    "    for div in firstDiv.find_next_siblings(\"div\"):\n",
    "        fileNumString = str(fileNum).strip()\n",
    "        with open(targetDir+\"\\\\\"+\"0\"*(4-len(fileNumString))+fileNumString+\n",
    "                  \".xml\", \"w\", encoding=\"utf8\") as outFile:\n",
    "            outFile.write(div.prettify())\n",
    "            fileNum += 1\n",
    "            newFile += \"<xi:include href='\" + \"0\"*(4-len(fileNumString)) + fileNumString + \".xml' \" + \"xmlns:xi='http://www.w3.org/2001/XInclude'/>\\n\"\n",
    "print(newFile)\n",
    "        \n",
    "        \n"
   ]
  },
  {
   "cell_type": "code",
   "execution_count": null,
   "metadata": {
    "collapsed": true
   },
   "outputs": [],
   "source": []
  }
 ],
 "metadata": {
  "kernelspec": {
   "display_name": "Python 3",
   "language": "python",
   "name": "python3"
  },
  "language_info": {
   "codemirror_mode": {
    "name": "ipython",
    "version": 3
   },
   "file_extension": ".py",
   "mimetype": "text/x-python",
   "name": "python",
   "nbconvert_exporter": "python",
   "pygments_lexer": "ipython3",
   "version": "3.6.3"
  }
 },
 "nbformat": 4,
 "nbformat_minor": 2
}
