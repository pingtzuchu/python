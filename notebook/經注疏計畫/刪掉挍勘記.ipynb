{
 "cells": [
  {
   "cell_type": "code",
   "execution_count": null,
   "metadata": {},
   "outputs": [],
   "source": [
    "import os\n",
    "from bs4 import BeautifulSoup\n",
    "rootDir = r\"G:\\小組雲端硬碟\\儒家經典注疏\\十三經注疏\\漢子電子文獻-刪校勘記\"\n",
    "fileNum = 1\n",
    "for root, subdirs, files in os.walk(rootDir):\n",
    "    for file in files:\n",
    "        with open(os.path.join(rootDir, file), \"r\", encoding=\"utf8\") as infile:\n",
    "            soup = BeautifulSoup(infile, \"xml\")\n",
    "            firstDiv = soup.div\n",
    "            for foundDiv in firstDiv.find_all(\"div\"):\n",
    "                try:\n",
    "                    if \"挍勘記\" in str(foundDiv.head.string):\n",
    "                        foundDiv.decompose()\n",
    "                except:\n",
    "                    pass\n",
    "        with open(os.path.join(rootDir, \"0\"*(2-len(str(fileNum).strip()))+str(fileNum).strip()+\".xml\"), \"w\", encoding=\"utf8\") as outfile:\n",
    "            outfile.write(soup.prettify())\n",
    "            print(fileNum)\n",
    "            fileNum += 1"
   ]
  },
  {
   "cell_type": "code",
   "execution_count": null,
   "metadata": {
    "collapsed": true
   },
   "outputs": [],
   "source": []
  }
 ],
 "metadata": {
  "kernelspec": {
   "display_name": "Python 3",
   "language": "python",
   "name": "python3"
  },
  "language_info": {
   "codemirror_mode": {
    "name": "ipython",
    "version": 3
   },
   "file_extension": ".py",
   "mimetype": "text/x-python",
   "name": "python",
   "nbconvert_exporter": "python",
   "pygments_lexer": "ipython3",
   "version": "3.6.3"
  }
 },
 "nbformat": 4,
 "nbformat_minor": 2
}
