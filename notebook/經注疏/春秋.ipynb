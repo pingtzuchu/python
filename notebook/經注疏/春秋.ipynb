{
 "cells": [
  {
   "cell_type": "markdown",
   "metadata": {},
   "source": [
    "將經文從《左傳》抽出。"
   ]
  },
  {
   "cell_type": "code",
   "execution_count": 8,
   "metadata": {},
   "outputs": [
    {
     "name": "stdout",
     "output_type": "stream",
     "text": [
      "We're done.\n"
     ]
    }
   ],
   "source": [
    "from bs4 import BeautifulSoup\n",
    "with open(r\"G:\\小組雲端硬碟\\儒家經典注疏\\十三經注疏\\斷句十三經經文\\春秋左傳.xml\", 'r', encoding='utf8') as infile:\n",
    "    soup = BeautifulSoup(infile.read(), \"xml\")\n",
    "    chunqiu = soup.div\n",
    "    newFile = \"\"\n",
    "    newFile += str(chunqiu.head.string).strip()+\"\\n\"\n",
    "    for gong in chunqiu.children:\n",
    "        try:\n",
    "            newFile += \"\\t\"+str(gong.head.string).strip()+\"\\n\"\n",
    "            for nian in gong.contents:\n",
    "                try:\n",
    "                    if str(nian.head.string).strip()[0]==\"經\":\n",
    "                        newFile += \"\\t\\t\"+str(nian.head.string).strip()+\"\\n\"\n",
    "                        for div in nian.find_all(\"div\"):\n",
    "                            newFile += \"\\t\\t\\t\"+str(div.string).strip()+\"\\n\"\n",
    "                except:\n",
    "                    pass\n",
    "        except:\n",
    "            pass\n",
    "\n",
    "with open(r\"G:\\小組雲端硬碟\\儒家經典注疏\\十三經注疏\\春秋.txt\", 'w', encoding='utf8') as outfile:\n",
    "    outfile.write(newFile)\n",
    "print(\"We're done.\")"
   ]
  },
  {
   "cell_type": "code",
   "execution_count": null,
   "metadata": {
    "collapsed": true
   },
   "outputs": [],
   "source": []
  }
 ],
 "metadata": {
  "kernelspec": {
   "display_name": "Python 3",
   "language": "python",
   "name": "python3"
  },
  "language_info": {
   "codemirror_mode": {
    "name": "ipython",
    "version": 3
   },
   "file_extension": ".py",
   "mimetype": "text/x-python",
   "name": "python",
   "nbconvert_exporter": "python",
   "pygments_lexer": "ipython3",
   "version": "3.6.3"
  }
 },
 "nbformat": 4,
 "nbformat_minor": 2
}
