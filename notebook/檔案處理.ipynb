{
 "cells": [
  {
   "cell_type": "code",
   "execution_count": null,
   "metadata": {
    "collapsed": true
   },
   "outputs": [],
   "source": [
    "import os\n",
    "rootdir = r\"D:\\GitHub\\KanripoXML\\data\"\n",
    "folderList = []\n",
    "for root, subdirs, files in os.walk(rootdir):\n",
    "    for file in files:\n",
    "        if file[0:4].upper() in folderList:\n",
    "            pass\n",
    "        else:\n",
    "            os.makedirs(rootdir+\"\\\\\"+\"KR\"+file[2:4])\n",
    "            folderList.append(file[:4].upper())\n",
    "        os.rename(os.path.join(root,file), os.path.join(rootdir,file[0:4], file))\n",
    "print(\"We're done.\")"
   ]
  },
  {
   "cell_type": "markdown",
   "metadata": {},
   "source": [
    "The above codes add the \".xml\" extension to files"
   ]
  },
  {
   "cell_type": "code",
   "execution_count": null,
   "metadata": {
    "collapsed": true
   },
   "outputs": [],
   "source": [
    "import os\n",
    "rootdir = r\"D:\\kanripo_div\"\n",
    "for root, subdirs, files in os.walk(rootdir):\n",
    "    for file in files:\n",
    "        if file[-8:]==\".xml.xml\":\n",
    "            os.rename(os.path.join(root,file), os.path.join(root,file[0:-4]))\n",
    "print (\"We're done.\")"
   ]
  },
  {
   "cell_type": "code",
   "execution_count": null,
   "metadata": {
    "collapsed": true
   },
   "outputs": [],
   "source": [
    "import os\n",
    "rootdir = r\"C:\\Users\\Ping-tzu 2 Chu A1\\Documents\\ccdata\"\n",
    "for root, subdirs, files in os.walk(rootdir):\n",
    "    for file in files:\n",
    "        if file[-8:]==\".xml.bak\":\n",
    "            os.rename(os.path.join(root,file), os.path.join(root,file[0:-4]))\n",
    "print (\"We're done.\")"
   ]
  },
  {
   "cell_type": "markdown",
   "metadata": {},
   "source": [
    "The above codes change the extension from \".xml.xml\" into \".xml\""
   ]
  },
  {
   "cell_type": "code",
   "execution_count": null,
   "metadata": {
    "collapsed": true
   },
   "outputs": [],
   "source": [
    "import os\n",
    "import re\n",
    "rootdir = r\"D:\\kanripo_tei\"\n",
    "for root, subdirs, files in os.walk(rootdir):\n",
    "    for file in files:\n",
    "        infile = open(os.path.join(root, file), \"r+\", encoding=\"UTF8\")\n",
    "        newDoc=\"\"\"<?xml-model href=\"http://www.tei-c.org/release/xml/tei/custom/schema/relaxng/tei_all.rng\" type=\"application/xml\" schematypens=\"http://relaxng.org/ns/structure/1.0\"?>\n",
    "<TEI xmlns=\"http://www.tei-c.org/ns/1.0\">\n",
    "  <teiHeader>\n",
    "      <fileDesc>\n",
    "         <titleStmt>\n",
    "            <title>Title</title>\n",
    "         </titleStmt>\n",
    "         <publicationStmt>\n",
    "            <p>Publication Information</p>\n",
    "         </publicationStmt>\n",
    "         <sourceDesc>\n",
    "            <p>kanripo.org</p>\n",
    "         </sourceDesc>\n",
    "      </fileDesc>\n",
    "  </teiHeader>\n",
    "  <text>\n",
    "      <body>\n",
    "                \"\"\"\n",
    "        newDoc += infile.read()\n",
    "        newDoc += \"</body>\\n</TEI>\"\n",
    "        infile.write(newDoc)\n",
    "print (\"We're done.\")"
   ]
  },
  {
   "cell_type": "markdown",
   "metadata": {},
   "source": [
    "the above codes add the TEI header and footer into files."
   ]
  },
  {
   "cell_type": "code",
   "execution_count": null,
   "metadata": {
    "collapsed": true
   },
   "outputs": [],
   "source": [
    "import csv\n",
    "import xml.etree.ElementTree as ET\n",
    "tree = ET.parse(r\"C:\\Users\\Ping-tzu 2 Chu A1\\Office365\\OneDrive - 清華大學\\同步文件\\程式資料\\OWL\\cbdb.owl\")\n",
    "ontoRoot = tree.getroot()\n",
    "ns = {\"on\":\"http://www.w3.org/2002/07/owl#\"}\n",
    "ontoName = []\n",
    "for entity in ontoRoot.findall(\"on:Declaration\", ns):\n",
    "    entityName = entity.find(\"*\").get(\"IRI\")\n",
    "    if not (entityName in ontoName):\n",
    "        ontoName.append(entityName)\n",
    "strList = []\n",
    "strDic = {}\n",
    "newDoc = \"\"\n",
    "with open(r\"D:\\temp\\OFFICE_TYPE_TREE.csv\", encoding = \"UTF8\", errors=\"replace\") as csvfile:\n",
    "    spreadsheet = csv.reader(csvfile, delimiter=\",\", quotechar = '“')    \n",
    "    for row in spreadsheet:\n",
    "        if len(row[0])==2:\n",
    "            tempStr = \"職官類別：\"+row[1]\n",
    "        elif row[1] in ontoName:\n",
    "            tempStr = row[1]+\"_\"+row[0]\n",
    "        else:\n",
    "            tempStr = row[1]\n",
    "        print (tempStr)\n",
    "        strList.append(tempStr)\n",
    "        strDic[row[0]]=tempStr\n",
    "        newDoc += \"<Declaration><Class IRI='#\"+tempStr+\"'/></Declaration>\\n\"\n",
    "        if len(row[0]) > 2:\n",
    "            newDoc += \"<SubClassOf><Class IRI='#\"+tempStr + \"'/><Class IRI='#\"+strDic[row[0][:-2]]+\"'/></SubClassOf>\\n\"\n",
    "with open(r\"d:\\temp\\temp.txt\", \"w\", encoding=\"UTF8\") as outfile:\n",
    "    outfile.write(newDoc)\n",
    "with open(r\"d:\\temp\\temp1.txt\", \"w\", encoding=\"UTF8\") as outfile1:\n",
    "    newDoc=\"\"\n",
    "    for i in strList:\n",
    "        newDoc += i+\"\\n\"\n",
    "    outfile1.write(newDoc)\n",
    "print (\"We're done.\")   "
   ]
  },
  {
   "cell_type": "markdown",
   "metadata": {},
   "source": [
    "The above add in the distinct offices into ontology format"
   ]
  },
  {
   "cell_type": "code",
   "execution_count": null,
   "metadata": {
    "collapsed": true,
    "scrolled": true
   },
   "outputs": [],
   "source": [
    "import os\n",
    "from bs4 import BeautifulSoup\n",
    "rootdir = r\"D:\\GitHub\\hyylk\\data\"\n",
    "outdir = r\"D:\\temp\\data\"\n",
    "titleList = []           \n",
    "fileCount = 0\n",
    "for root, subdirs, files in os.walk(rootdir):\n",
    "    for file in files:\n",
    "        openFile = open(os.path.join(root,file), \"r\", encoding=\"utf8\")\n",
    "        soup=BeautifulSoup(openFile, \"xml\")\n",
    "        soup.title.string=file[:-4]\n",
    "        writeDir = root.split(\"\\\\\")[-1]\n",
    "        inFile = open(os.path.join(outdir,writeDir,file), \"w\", encoding=\"utf8\")\n",
    "        inFile.write(soup.prettify())\n",
    "        inFile.close\n",
    "        openFile.close\n",
    "print(\"We're done here.\")"
   ]
  },
  {
   "cell_type": "markdown",
   "metadata": {
    "collapsed": true
   },
   "source": [
    "刪檔案"
   ]
  },
  {
   "cell_type": "code",
   "execution_count": null,
   "metadata": {
    "collapsed": true
   },
   "outputs": [],
   "source": [
    "import os\n",
    "rootDir = r\"C:\\Users\\Ping-tzu 2 Chu A1\\Downloads\"\n",
    "for i in range(13857,22240):\n",
    "    try:\n",
    "        os.remove(rootDir+\"\\\\\"+str(i).strip()+\".html\")\n",
    "    except:\n",
    "        pass\n",
    "print(\"We're done.\")"
   ]
  },
  {
   "cell_type": "markdown",
   "metadata": {},
   "source": [
    "移動檔"
   ]
  },
  {
   "cell_type": "code",
   "execution_count": null,
   "metadata": {
    "collapsed": true
   },
   "outputs": [],
   "source": [
    "import os, shutil\n",
    "rootDir = r\"C:\\Users\\Ping-tzu 2 Chu A1\\Downloads\"\n",
    "targetDir = r\"D:\\AS\\宋會要輯稿\"\n",
    "problem = []\n",
    "for i in range(13857, 24166):\n",
    "    try:\n",
    "        shutil.copy(rootDir+\"\\\\\"+str(i).strip()+\".html\", targetDir+\"\\\\\"+str(i).strip()+\".html\")\n",
    "        os.remove(rootDir+\"\\\\\"+str(i).strip()+\".html\")\n",
    "    except:\n",
    "        problem.append(i)\n",
    "print(problem)\n",
    "print(\"We're done.\")"
   ]
  },
  {
   "cell_type": "markdown",
   "metadata": {
    "collapsed": true
   },
   "source": [
    "刪資料夾"
   ]
  },
  {
   "cell_type": "code",
   "execution_count": null,
   "metadata": {
    "collapsed": true
   },
   "outputs": [],
   "source": [
    "import shutil, os\n",
    "rootDir = r\"G:\\小組雲端硬碟\\計畫控制\\AS\\宋會要輯䅌C:\\Users\\Ping-tzu 2 Chu A1\\Downloads\"\n",
    "missings=[]\n",
    "for root, subdirs, files in os.walk(rootDir):\n",
    "    for subdir in subdirs:\n",
    "        try:\n",
    "            shutil.rmtree(root+\"\\\\\"+subdir, ignore_errors=True)\n",
    "            print(subdir)\n",
    "        except:\n",
    "            missings.append(subdir)\n",
    "print(missings)\n",
    "print(\"We're done.\")"
   ]
  },
  {
   "cell_type": "code",
   "execution_count": 6,
   "metadata": {},
   "outputs": [
    {
     "name": "stdout",
     "output_type": "stream",
     "text": [
      "[76, 280, 304, 311, 330]\n"
     ]
    }
   ],
   "source": [
    "import os\n",
    "missingFiles=[]\n",
    "rootDir = r\"G:\\小組雲端硬碟\\侯道儒\\qsw20171110\"\n",
    "for i in range(1, 363):\n",
    "    if not os.path.isfile(rootDir+\"\\\\\"+\"0\"*(3-len(str(i).strip()))+str(i).strip()+\".xml\"):\n",
    "        missingFiles.append(i)\n",
    "print(missingFiles)\n",
    "    \n",
    "    "
   ]
  },
  {
   "cell_type": "code",
   "execution_count": null,
   "metadata": {
    "collapsed": true
   },
   "outputs": [],
   "source": [
    "from bs4 import BeautifulSoup\n",
    "with open(r\"G:\\小組雲端硬碟\\儒家經典注疏\\十三經注疏\\網路簡體版\\\") as infile:\n",
    "    soup = BeautifulSoup(infile.read())\n",
    "    firstDiv = soup.div\n",
    "    with open(r\"\", \"w\", encoding=\"utf8\") as outfile:\n",
    "        outfile.write(firstDiv.prettify())\n",
    "    "
   ]
  },
  {
   "cell_type": "code",
   "execution_count": null,
   "metadata": {
    "collapsed": true
   },
   "outputs": [],
   "source": []
  }
 ],
 "metadata": {
  "anaconda-cloud": {},
  "kernelspec": {
   "display_name": "Python 3",
   "language": "python",
   "name": "python3"
  },
  "language_info": {
   "codemirror_mode": {
    "name": "ipython",
    "version": 3
   },
   "file_extension": ".py",
   "mimetype": "text/x-python",
   "name": "python",
   "nbconvert_exporter": "python",
   "pygments_lexer": "ipython3",
   "version": "3.6.3"
  }
 },
 "nbformat": 4,
 "nbformat_minor": 1
}
