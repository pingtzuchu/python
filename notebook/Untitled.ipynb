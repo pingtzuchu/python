{
 "cells": [
  {
   "cell_type": "markdown",
   "metadata": {},
   "source": [
    "轉換sumo成為protege可以吃的格式"
   ]
  },
  {
   "cell_type": "code",
   "execution_count": 2,
   "metadata": {
    "collapsed": false
   },
   "outputs": [
    {
     "name": "stdout",
     "output_type": "stream",
     "text": [
      "We're done.\n"
     ]
    }
   ],
   "source": [
    "import re\n",
    "import xml.etree.ElementTree as ET\n",
    "tree = ET.parse(r\"C:\\Users\\Ping-tzu 2 Chu A1\\Office365\\OneDrive - 清華大學\\同步文件\\2016-2017\\本體結構與文史研究\\sumo_chinese.xml\")\n",
    "root = tree.getroot()\n",
    "newDoc = \"\"\n",
    "headlist = []\n",
    "for head in root.findall(\".//head\"):\n",
    "    headStr = head.text.replace(\" \", \"_\")\n",
    "    if not(headStr in headlist):\n",
    "        headlist.append(headStr)\n",
    "subclassList =[]\n",
    "for div in root.iter(\"div\"):\n",
    "    for child in div.findall(\"div\"):\n",
    "        tempList = [div.find(\"head\").text.replace(\" \", \"_\"), child.find(\"head\").text.replace(\" \", \"_\")]\n",
    "        if not (tempList in subclassList):\n",
    "            subclassList.append(tempList)\n",
    "for head in headlist:\n",
    "    newDoc += \"\\t\" + \"<Declaration>\\n\\t\\t<Class IRI='#\" +head+ \"'/>\\n\\t</Declaration>\" +\"\\n\"\n",
    "for subClass in subclassList:\n",
    "    newDoc += \"\\t\" + \"<SubClassOf>\\n\\t\\t<Class IRI='#\" + subClass[1] + \"'/>\\n\\t\\t<Class IRI='#\" + subClass[0] + \"'/>\\n\\t</SubClassOf>\"+\"\\n\"\n",
    "wFile = open(r\"d:\\temp\\temp.txt\", \"w\", encoding=\"UTF8\")\n",
    "wFile.write(newDoc)\n",
    "wFile.close\n",
    "print (\"We're done.\")\n"
   ]
  },
  {
   "cell_type": "code",
   "execution_count": null,
   "metadata": {
    "collapsed": true
   },
   "outputs": [],
   "source": []
  },
  {
   "cell_type": "code",
   "execution_count": null,
   "metadata": {
    "collapsed": true
   },
   "outputs": [],
   "source": []
  }
 ],
 "metadata": {
  "kernelspec": {
   "display_name": "Python [default]",
   "language": "python",
   "name": "python3"
  },
  "language_info": {
   "codemirror_mode": {
    "name": "ipython",
    "version": 3
   },
   "file_extension": ".py",
   "mimetype": "text/x-python",
   "name": "python",
   "nbconvert_exporter": "python",
   "pygments_lexer": "ipython3",
   "version": "3.5.2"
  }
 },
 "nbformat": 4,
 "nbformat_minor": 1
}
